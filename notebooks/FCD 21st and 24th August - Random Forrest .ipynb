{
 "cells": [
  {
   "cell_type": "code",
   "execution_count": 1,
   "id": "16e56d63",
   "metadata": {},
   "outputs": [],
   "source": [
    "#Imports\n",
    "import pandas as pd\n",
    "import numpy as np\n",
    "import matplotlib.pyplot as plt\n",
    "from sklearn.ensemble import RandomForestClassifier\n",
    "from sklearn.cluster import KMeans\n",
    "from sklearn.neighbors import NearestNeighbors\n",
    "from sklearn.decomposition import PCA\n",
    "from sklearn.impute import SimpleImputer\n",
    "from sklearn.preprocessing import StandardScaler\n",
    "from sklearn.cluster import KMeans\n",
    "from sklearn.neighbors import NearestNeighbors\n",
    "from sklearn.decomposition import PCA\n",
    "from sklearn.mixture import GaussianMixture\n",
    "from sklearn.preprocessing import OneHotEncoder\n",
    "from sklearn.model_selection import cross_validate, GridSearchCV\n",
    "from sklearn.inspection import permutation_importance\n",
    "from sklearn.tree import plot_tree,export_graphviz\n",
    "import graphviz as gp"
   ]
  },
  {
   "cell_type": "markdown",
   "id": "9eba8f70",
   "metadata": {},
   "source": [
    "# Data"
   ]
  },
  {
   "cell_type": "code",
   "execution_count": 3,
   "id": "dbb328f8",
   "metadata": {},
   "outputs": [
    {
     "data": {
      "text/html": [
       "<div>\n",
       "<style scoped>\n",
       "    .dataframe tbody tr th:only-of-type {\n",
       "        vertical-align: middle;\n",
       "    }\n",
       "\n",
       "    .dataframe tbody tr th {\n",
       "        vertical-align: top;\n",
       "    }\n",
       "\n",
       "    .dataframe thead th {\n",
       "        text-align: right;\n",
       "    }\n",
       "</style>\n",
       "<table border=\"1\" class=\"dataframe\">\n",
       "  <thead>\n",
       "    <tr style=\"text-align: right;\">\n",
       "      <th></th>\n",
       "      <th>participant_id</th>\n",
       "      <th>age</th>\n",
       "      <th>sex</th>\n",
       "      <th>BMI</th>\n",
       "      <th>handedness</th>\n",
       "      <th>education_category</th>\n",
       "      <th>NEO_N</th>\n",
       "      <th>NEO_E</th>\n",
       "      <th>NEO_O</th>\n",
       "      <th>NEO_A</th>\n",
       "      <th>...</th>\n",
       "      <th>CC_Mid_Anterior</th>\n",
       "      <th>CC_Anterior</th>\n",
       "      <th>CortexVol</th>\n",
       "      <th>CerebralWhiteMatterVol</th>\n",
       "      <th>SubCortGrayVol</th>\n",
       "      <th>TotalGrayVol</th>\n",
       "      <th>MaskVol-to-eTIV</th>\n",
       "      <th>lhSurfaceHoles</th>\n",
       "      <th>rhSurfaceHoles</th>\n",
       "      <th>SurfaceHoles</th>\n",
       "    </tr>\n",
       "  </thead>\n",
       "  <tbody>\n",
       "    <tr>\n",
       "      <th>0</th>\n",
       "      <td>sub-0001</td>\n",
       "      <td>26.25</td>\n",
       "      <td>F</td>\n",
       "      <td>24.0</td>\n",
       "      <td>right</td>\n",
       "      <td>applied</td>\n",
       "      <td>35</td>\n",
       "      <td>44</td>\n",
       "      <td>37</td>\n",
       "      <td>39</td>\n",
       "      <td>...</td>\n",
       "      <td>474.1</td>\n",
       "      <td>954.7</td>\n",
       "      <td>431722.3085</td>\n",
       "      <td>412508.1558</td>\n",
       "      <td>52096</td>\n",
       "      <td>579143.3085</td>\n",
       "      <td>1.104817</td>\n",
       "      <td>12</td>\n",
       "      <td>15</td>\n",
       "      <td>27</td>\n",
       "    </tr>\n",
       "    <tr>\n",
       "      <th>1</th>\n",
       "      <td>sub-0002</td>\n",
       "      <td>21.00</td>\n",
       "      <td>F</td>\n",
       "      <td>23.0</td>\n",
       "      <td>right</td>\n",
       "      <td>academic</td>\n",
       "      <td>27</td>\n",
       "      <td>53</td>\n",
       "      <td>40</td>\n",
       "      <td>48</td>\n",
       "      <td>...</td>\n",
       "      <td>534.4</td>\n",
       "      <td>1007.6</td>\n",
       "      <td>551229.5244</td>\n",
       "      <td>511140.9554</td>\n",
       "      <td>61775</td>\n",
       "      <td>729961.5244</td>\n",
       "      <td>0.946018</td>\n",
       "      <td>12</td>\n",
       "      <td>3</td>\n",
       "      <td>15</td>\n",
       "    </tr>\n",
       "    <tr>\n",
       "      <th>2</th>\n",
       "      <td>sub-0003</td>\n",
       "      <td>23.00</td>\n",
       "      <td>M</td>\n",
       "      <td>22.0</td>\n",
       "      <td>right</td>\n",
       "      <td>academic</td>\n",
       "      <td>35</td>\n",
       "      <td>40</td>\n",
       "      <td>43</td>\n",
       "      <td>37</td>\n",
       "      <td>...</td>\n",
       "      <td>624.5</td>\n",
       "      <td>875.2</td>\n",
       "      <td>484203.7432</td>\n",
       "      <td>488806.8270</td>\n",
       "      <td>55089</td>\n",
       "      <td>666343.7432</td>\n",
       "      <td>1.121519</td>\n",
       "      <td>7</td>\n",
       "      <td>8</td>\n",
       "      <td>15</td>\n",
       "    </tr>\n",
       "    <tr>\n",
       "      <th>3</th>\n",
       "      <td>sub-0004</td>\n",
       "      <td>23.50</td>\n",
       "      <td>F</td>\n",
       "      <td>22.0</td>\n",
       "      <td>right</td>\n",
       "      <td>applied</td>\n",
       "      <td>29</td>\n",
       "      <td>47</td>\n",
       "      <td>41</td>\n",
       "      <td>48</td>\n",
       "      <td>...</td>\n",
       "      <td>488.8</td>\n",
       "      <td>952.1</td>\n",
       "      <td>490562.7749</td>\n",
       "      <td>424675.0400</td>\n",
       "      <td>57767</td>\n",
       "      <td>666421.7749</td>\n",
       "      <td>1.046196</td>\n",
       "      <td>14</td>\n",
       "      <td>9</td>\n",
       "      <td>23</td>\n",
       "    </tr>\n",
       "    <tr>\n",
       "      <th>4</th>\n",
       "      <td>sub-0005</td>\n",
       "      <td>21.75</td>\n",
       "      <td>M</td>\n",
       "      <td>19.0</td>\n",
       "      <td>ambidextrous</td>\n",
       "      <td>applied</td>\n",
       "      <td>26</td>\n",
       "      <td>35</td>\n",
       "      <td>40</td>\n",
       "      <td>38</td>\n",
       "      <td>...</td>\n",
       "      <td>683.6</td>\n",
       "      <td>941.4</td>\n",
       "      <td>549885.2510</td>\n",
       "      <td>473013.9161</td>\n",
       "      <td>60987</td>\n",
       "      <td>723713.2510</td>\n",
       "      <td>0.981137</td>\n",
       "      <td>17</td>\n",
       "      <td>12</td>\n",
       "      <td>29</td>\n",
       "    </tr>\n",
       "  </tbody>\n",
       "</table>\n",
       "<p>5 rows × 136 columns</p>\n",
       "</div>"
      ],
      "text/plain": [
       "  participant_id    age sex   BMI    handedness education_category  NEO_N  \\\n",
       "0       sub-0001  26.25   F  24.0         right            applied     35   \n",
       "1       sub-0002  21.00   F  23.0         right           academic     27   \n",
       "2       sub-0003  23.00   M  22.0         right           academic     35   \n",
       "3       sub-0004  23.50   F  22.0         right            applied     29   \n",
       "4       sub-0005  21.75   M  19.0  ambidextrous            applied     26   \n",
       "\n",
       "   NEO_E  NEO_O  NEO_A  ...  CC_Mid_Anterior  CC_Anterior    CortexVol  \\\n",
       "0     44     37     39  ...            474.1        954.7  431722.3085   \n",
       "1     53     40     48  ...            534.4       1007.6  551229.5244   \n",
       "2     40     43     37  ...            624.5        875.2  484203.7432   \n",
       "3     47     41     48  ...            488.8        952.1  490562.7749   \n",
       "4     35     40     38  ...            683.6        941.4  549885.2510   \n",
       "\n",
       "   CerebralWhiteMatterVol  SubCortGrayVol  TotalGrayVol  MaskVol-to-eTIV  \\\n",
       "0             412508.1558           52096   579143.3085         1.104817   \n",
       "1             511140.9554           61775   729961.5244         0.946018   \n",
       "2             488806.8270           55089   666343.7432         1.121519   \n",
       "3             424675.0400           57767   666421.7749         1.046196   \n",
       "4             473013.9161           60987   723713.2510         0.981137   \n",
       "\n",
       "   lhSurfaceHoles  rhSurfaceHoles  SurfaceHoles  \n",
       "0              12              15            27  \n",
       "1              12               3            15  \n",
       "2               7               8            15  \n",
       "3              14               9            23  \n",
       "4              17              12            29  \n",
       "\n",
       "[5 rows x 136 columns]"
      ]
     },
     "execution_count": 3,
     "metadata": {},
     "output_type": "execute_result"
    }
   ],
   "source": [
    "master=pd.read_csv('master_dup_removed.csv')\n",
    "master.head()"
   ]
  },
  {
   "cell_type": "code",
   "execution_count": 4,
   "id": "12152c5d",
   "metadata": {},
   "outputs": [
    {
     "data": {
      "text/plain": [
       "(1362, 136)"
      ]
     },
     "execution_count": 4,
     "metadata": {},
     "output_type": "execute_result"
    }
   ],
   "source": [
    "master.shape"
   ]
  },
  {
   "cell_type": "markdown",
   "id": "f1545333",
   "metadata": {},
   "source": [
    "# Clustering"
   ]
  },
  {
   "cell_type": "code",
   "execution_count": 5,
   "id": "1b5f505a",
   "metadata": {},
   "outputs": [
    {
     "data": {
      "text/html": [
       "<div>\n",
       "<style scoped>\n",
       "    .dataframe tbody tr th:only-of-type {\n",
       "        vertical-align: middle;\n",
       "    }\n",
       "\n",
       "    .dataframe tbody tr th {\n",
       "        vertical-align: top;\n",
       "    }\n",
       "\n",
       "    .dataframe thead th {\n",
       "        text-align: right;\n",
       "    }\n",
       "</style>\n",
       "<table border=\"1\" class=\"dataframe\">\n",
       "  <thead>\n",
       "    <tr style=\"text-align: right;\">\n",
       "      <th></th>\n",
       "      <th>NEO_N</th>\n",
       "      <th>NEO_C</th>\n",
       "      <th>NEO_A</th>\n",
       "      <th>NEO_E</th>\n",
       "      <th>NEO_O</th>\n",
       "    </tr>\n",
       "  </thead>\n",
       "  <tbody>\n",
       "    <tr>\n",
       "      <th>0</th>\n",
       "      <td>35</td>\n",
       "      <td>48.0</td>\n",
       "      <td>39</td>\n",
       "      <td>44</td>\n",
       "      <td>37</td>\n",
       "    </tr>\n",
       "    <tr>\n",
       "      <th>1</th>\n",
       "      <td>27</td>\n",
       "      <td>34.0</td>\n",
       "      <td>48</td>\n",
       "      <td>53</td>\n",
       "      <td>40</td>\n",
       "    </tr>\n",
       "    <tr>\n",
       "      <th>2</th>\n",
       "      <td>35</td>\n",
       "      <td>38.0</td>\n",
       "      <td>37</td>\n",
       "      <td>40</td>\n",
       "      <td>43</td>\n",
       "    </tr>\n",
       "    <tr>\n",
       "      <th>3</th>\n",
       "      <td>29</td>\n",
       "      <td>41.0</td>\n",
       "      <td>48</td>\n",
       "      <td>47</td>\n",
       "      <td>41</td>\n",
       "    </tr>\n",
       "    <tr>\n",
       "      <th>4</th>\n",
       "      <td>26</td>\n",
       "      <td>45.0</td>\n",
       "      <td>38</td>\n",
       "      <td>35</td>\n",
       "      <td>40</td>\n",
       "    </tr>\n",
       "    <tr>\n",
       "      <th>...</th>\n",
       "      <td>...</td>\n",
       "      <td>...</td>\n",
       "      <td>...</td>\n",
       "      <td>...</td>\n",
       "      <td>...</td>\n",
       "    </tr>\n",
       "    <tr>\n",
       "      <th>1357</th>\n",
       "      <td>40</td>\n",
       "      <td>32.0</td>\n",
       "      <td>38</td>\n",
       "      <td>39</td>\n",
       "      <td>47</td>\n",
       "    </tr>\n",
       "    <tr>\n",
       "      <th>1358</th>\n",
       "      <td>28</td>\n",
       "      <td>40.0</td>\n",
       "      <td>34</td>\n",
       "      <td>41</td>\n",
       "      <td>48</td>\n",
       "    </tr>\n",
       "    <tr>\n",
       "      <th>1359</th>\n",
       "      <td>27</td>\n",
       "      <td>45.0</td>\n",
       "      <td>41</td>\n",
       "      <td>44</td>\n",
       "      <td>46</td>\n",
       "    </tr>\n",
       "    <tr>\n",
       "      <th>1360</th>\n",
       "      <td>35</td>\n",
       "      <td>41.0</td>\n",
       "      <td>45</td>\n",
       "      <td>32</td>\n",
       "      <td>44</td>\n",
       "    </tr>\n",
       "    <tr>\n",
       "      <th>1361</th>\n",
       "      <td>30</td>\n",
       "      <td>37.0</td>\n",
       "      <td>42</td>\n",
       "      <td>46</td>\n",
       "      <td>40</td>\n",
       "    </tr>\n",
       "  </tbody>\n",
       "</table>\n",
       "<p>1362 rows × 5 columns</p>\n",
       "</div>"
      ],
      "text/plain": [
       "      NEO_N  NEO_C  NEO_A  NEO_E  NEO_O\n",
       "0        35   48.0     39     44     37\n",
       "1        27   34.0     48     53     40\n",
       "2        35   38.0     37     40     43\n",
       "3        29   41.0     48     47     41\n",
       "4        26   45.0     38     35     40\n",
       "...     ...    ...    ...    ...    ...\n",
       "1357     40   32.0     38     39     47\n",
       "1358     28   40.0     34     41     48\n",
       "1359     27   45.0     41     44     46\n",
       "1360     35   41.0     45     32     44\n",
       "1361     30   37.0     42     46     40\n",
       "\n",
       "[1362 rows x 5 columns]"
      ]
     },
     "execution_count": 5,
     "metadata": {},
     "output_type": "execute_result"
    }
   ],
   "source": [
    "y=master[['NEO_N','NEO_C','NEO_A','NEO_E','NEO_O']]\n",
    "y"
   ]
  },
  {
   "cell_type": "code",
   "execution_count": 6,
   "id": "caca98db",
   "metadata": {},
   "outputs": [
    {
     "data": {
      "text/html": [
       "<div>\n",
       "<style scoped>\n",
       "    .dataframe tbody tr th:only-of-type {\n",
       "        vertical-align: middle;\n",
       "    }\n",
       "\n",
       "    .dataframe tbody tr th {\n",
       "        vertical-align: top;\n",
       "    }\n",
       "\n",
       "    .dataframe thead th {\n",
       "        text-align: right;\n",
       "    }\n",
       "</style>\n",
       "<table border=\"1\" class=\"dataframe\">\n",
       "  <thead>\n",
       "    <tr style=\"text-align: right;\">\n",
       "      <th></th>\n",
       "      <th>NEO_N</th>\n",
       "      <th>NEO_C</th>\n",
       "      <th>NEO_A</th>\n",
       "      <th>NEO_E</th>\n",
       "      <th>NEO_O</th>\n",
       "    </tr>\n",
       "  </thead>\n",
       "  <tbody>\n",
       "    <tr>\n",
       "      <th>0</th>\n",
       "      <td>35.0</td>\n",
       "      <td>48.0</td>\n",
       "      <td>39.0</td>\n",
       "      <td>44.0</td>\n",
       "      <td>37.0</td>\n",
       "    </tr>\n",
       "    <tr>\n",
       "      <th>1</th>\n",
       "      <td>27.0</td>\n",
       "      <td>34.0</td>\n",
       "      <td>48.0</td>\n",
       "      <td>53.0</td>\n",
       "      <td>40.0</td>\n",
       "    </tr>\n",
       "    <tr>\n",
       "      <th>2</th>\n",
       "      <td>35.0</td>\n",
       "      <td>38.0</td>\n",
       "      <td>37.0</td>\n",
       "      <td>40.0</td>\n",
       "      <td>43.0</td>\n",
       "    </tr>\n",
       "    <tr>\n",
       "      <th>3</th>\n",
       "      <td>29.0</td>\n",
       "      <td>41.0</td>\n",
       "      <td>48.0</td>\n",
       "      <td>47.0</td>\n",
       "      <td>41.0</td>\n",
       "    </tr>\n",
       "    <tr>\n",
       "      <th>4</th>\n",
       "      <td>26.0</td>\n",
       "      <td>45.0</td>\n",
       "      <td>38.0</td>\n",
       "      <td>35.0</td>\n",
       "      <td>40.0</td>\n",
       "    </tr>\n",
       "    <tr>\n",
       "      <th>...</th>\n",
       "      <td>...</td>\n",
       "      <td>...</td>\n",
       "      <td>...</td>\n",
       "      <td>...</td>\n",
       "      <td>...</td>\n",
       "    </tr>\n",
       "    <tr>\n",
       "      <th>1357</th>\n",
       "      <td>40.0</td>\n",
       "      <td>32.0</td>\n",
       "      <td>38.0</td>\n",
       "      <td>39.0</td>\n",
       "      <td>47.0</td>\n",
       "    </tr>\n",
       "    <tr>\n",
       "      <th>1358</th>\n",
       "      <td>28.0</td>\n",
       "      <td>40.0</td>\n",
       "      <td>34.0</td>\n",
       "      <td>41.0</td>\n",
       "      <td>48.0</td>\n",
       "    </tr>\n",
       "    <tr>\n",
       "      <th>1359</th>\n",
       "      <td>27.0</td>\n",
       "      <td>45.0</td>\n",
       "      <td>41.0</td>\n",
       "      <td>44.0</td>\n",
       "      <td>46.0</td>\n",
       "    </tr>\n",
       "    <tr>\n",
       "      <th>1360</th>\n",
       "      <td>35.0</td>\n",
       "      <td>41.0</td>\n",
       "      <td>45.0</td>\n",
       "      <td>32.0</td>\n",
       "      <td>44.0</td>\n",
       "    </tr>\n",
       "    <tr>\n",
       "      <th>1361</th>\n",
       "      <td>30.0</td>\n",
       "      <td>37.0</td>\n",
       "      <td>42.0</td>\n",
       "      <td>46.0</td>\n",
       "      <td>40.0</td>\n",
       "    </tr>\n",
       "  </tbody>\n",
       "</table>\n",
       "<p>1362 rows × 5 columns</p>\n",
       "</div>"
      ],
      "text/plain": [
       "      NEO_N  NEO_C  NEO_A  NEO_E  NEO_O\n",
       "0      35.0   48.0   39.0   44.0   37.0\n",
       "1      27.0   34.0   48.0   53.0   40.0\n",
       "2      35.0   38.0   37.0   40.0   43.0\n",
       "3      29.0   41.0   48.0   47.0   41.0\n",
       "4      26.0   45.0   38.0   35.0   40.0\n",
       "...     ...    ...    ...    ...    ...\n",
       "1357   40.0   32.0   38.0   39.0   47.0\n",
       "1358   28.0   40.0   34.0   41.0   48.0\n",
       "1359   27.0   45.0   41.0   44.0   46.0\n",
       "1360   35.0   41.0   45.0   32.0   44.0\n",
       "1361   30.0   37.0   42.0   46.0   40.0\n",
       "\n",
       "[1362 rows x 5 columns]"
      ]
     },
     "execution_count": 6,
     "metadata": {},
     "output_type": "execute_result"
    }
   ],
   "source": [
    "imputer = SimpleImputer(missing_values=np.nan, strategy='median')\n",
    "y=pd.DataFrame(imputer.fit_transform(y),columns=y.columns)\n",
    "y"
   ]
  },
  {
   "cell_type": "code",
   "execution_count": 8,
   "id": "3af62621",
   "metadata": {},
   "outputs": [
    {
     "data": {
      "text/html": [
       "<div>\n",
       "<style scoped>\n",
       "    .dataframe tbody tr th:only-of-type {\n",
       "        vertical-align: middle;\n",
       "    }\n",
       "\n",
       "    .dataframe tbody tr th {\n",
       "        vertical-align: top;\n",
       "    }\n",
       "\n",
       "    .dataframe thead th {\n",
       "        text-align: right;\n",
       "    }\n",
       "</style>\n",
       "<table border=\"1\" class=\"dataframe\">\n",
       "  <thead>\n",
       "    <tr style=\"text-align: right;\">\n",
       "      <th></th>\n",
       "      <th>NEO_N</th>\n",
       "      <th>NEO_C</th>\n",
       "      <th>NEO_A</th>\n",
       "      <th>NEO_E</th>\n",
       "      <th>NEO_O</th>\n",
       "    </tr>\n",
       "  </thead>\n",
       "  <tbody>\n",
       "    <tr>\n",
       "      <th>0</th>\n",
       "      <td>0.443070</td>\n",
       "      <td>1.246413</td>\n",
       "      <td>-0.428631</td>\n",
       "      <td>0.283842</td>\n",
       "      <td>-0.662282</td>\n",
       "    </tr>\n",
       "    <tr>\n",
       "      <th>1</th>\n",
       "      <td>-0.756058</td>\n",
       "      <td>-0.837097</td>\n",
       "      <td>1.126315</td>\n",
       "      <td>1.848997</td>\n",
       "      <td>-0.182480</td>\n",
       "    </tr>\n",
       "    <tr>\n",
       "      <th>2</th>\n",
       "      <td>0.443070</td>\n",
       "      <td>-0.241809</td>\n",
       "      <td>-0.774175</td>\n",
       "      <td>-0.411782</td>\n",
       "      <td>0.297323</td>\n",
       "    </tr>\n",
       "    <tr>\n",
       "      <th>3</th>\n",
       "      <td>-0.456276</td>\n",
       "      <td>0.204658</td>\n",
       "      <td>1.126315</td>\n",
       "      <td>0.805561</td>\n",
       "      <td>-0.022546</td>\n",
       "    </tr>\n",
       "    <tr>\n",
       "      <th>4</th>\n",
       "      <td>-0.905949</td>\n",
       "      <td>0.799947</td>\n",
       "      <td>-0.601403</td>\n",
       "      <td>-1.281313</td>\n",
       "      <td>-0.182480</td>\n",
       "    </tr>\n",
       "    <tr>\n",
       "      <th>...</th>\n",
       "      <td>...</td>\n",
       "      <td>...</td>\n",
       "      <td>...</td>\n",
       "      <td>...</td>\n",
       "      <td>...</td>\n",
       "    </tr>\n",
       "    <tr>\n",
       "      <th>1357</th>\n",
       "      <td>1.192525</td>\n",
       "      <td>-1.134742</td>\n",
       "      <td>-0.601403</td>\n",
       "      <td>-0.585688</td>\n",
       "      <td>0.937059</td>\n",
       "    </tr>\n",
       "    <tr>\n",
       "      <th>1358</th>\n",
       "      <td>-0.606167</td>\n",
       "      <td>0.055836</td>\n",
       "      <td>-1.292490</td>\n",
       "      <td>-0.237876</td>\n",
       "      <td>1.096993</td>\n",
       "    </tr>\n",
       "    <tr>\n",
       "      <th>1359</th>\n",
       "      <td>-0.756058</td>\n",
       "      <td>0.799947</td>\n",
       "      <td>-0.083088</td>\n",
       "      <td>0.283842</td>\n",
       "      <td>0.777125</td>\n",
       "    </tr>\n",
       "    <tr>\n",
       "      <th>1360</th>\n",
       "      <td>0.443070</td>\n",
       "      <td>0.204658</td>\n",
       "      <td>0.607999</td>\n",
       "      <td>-1.803031</td>\n",
       "      <td>0.457257</td>\n",
       "    </tr>\n",
       "    <tr>\n",
       "      <th>1361</th>\n",
       "      <td>-0.306385</td>\n",
       "      <td>-0.390631</td>\n",
       "      <td>0.089684</td>\n",
       "      <td>0.631655</td>\n",
       "      <td>-0.182480</td>\n",
       "    </tr>\n",
       "  </tbody>\n",
       "</table>\n",
       "<p>1362 rows × 5 columns</p>\n",
       "</div>"
      ],
      "text/plain": [
       "         NEO_N     NEO_C     NEO_A     NEO_E     NEO_O\n",
       "0     0.443070  1.246413 -0.428631  0.283842 -0.662282\n",
       "1    -0.756058 -0.837097  1.126315  1.848997 -0.182480\n",
       "2     0.443070 -0.241809 -0.774175 -0.411782  0.297323\n",
       "3    -0.456276  0.204658  1.126315  0.805561 -0.022546\n",
       "4    -0.905949  0.799947 -0.601403 -1.281313 -0.182480\n",
       "...        ...       ...       ...       ...       ...\n",
       "1357  1.192525 -1.134742 -0.601403 -0.585688  0.937059\n",
       "1358 -0.606167  0.055836 -1.292490 -0.237876  1.096993\n",
       "1359 -0.756058  0.799947 -0.083088  0.283842  0.777125\n",
       "1360  0.443070  0.204658  0.607999 -1.803031  0.457257\n",
       "1361 -0.306385 -0.390631  0.089684  0.631655 -0.182480\n",
       "\n",
       "[1362 rows x 5 columns]"
      ]
     },
     "execution_count": 8,
     "metadata": {},
     "output_type": "execute_result"
    }
   ],
   "source": [
    "scaler = StandardScaler()\n",
    "scaler.fit(y)\n",
    "y = pd.DataFrame(scaler.transform(y), columns=y.columns)\n",
    "y"
   ]
  },
  {
   "cell_type": "code",
   "execution_count": 9,
   "id": "09bcdf11",
   "metadata": {},
   "outputs": [],
   "source": [
    "clusters = KMeans(n_clusters=5)"
   ]
  },
  {
   "cell_type": "code",
   "execution_count": 10,
   "id": "d071ad3f",
   "metadata": {},
   "outputs": [
    {
     "data": {
      "text/plain": [
       "KMeans(n_clusters=5)"
      ]
     },
     "execution_count": 10,
     "metadata": {},
     "output_type": "execute_result"
    }
   ],
   "source": [
    "clusters.fit(y)"
   ]
  },
  {
   "cell_type": "code",
   "execution_count": 11,
   "id": "c68d2cc3",
   "metadata": {},
   "outputs": [
    {
     "data": {
      "text/plain": [
       "array([[2.79083019, 2.19031875, 1.89857303, 1.59960808, 2.25375357],\n",
       "       [3.17130554, 2.21022495, 3.43139855, 2.3204903 , 2.9499424 ],\n",
       "       [1.6048219 , 2.22555177, 1.36675632, 2.44973692, 1.00074884],\n",
       "       ...,\n",
       "       [2.64274308, 0.77484634, 2.41460422, 1.72025811, 2.06673434],\n",
       "       [1.73872979, 2.76735192, 1.69389235, 2.91062399, 2.95519616],\n",
       "       [2.07563769, 1.52325184, 1.86683413, 1.45871628, 1.5022307 ]])"
      ]
     },
     "execution_count": 11,
     "metadata": {},
     "output_type": "execute_result"
    }
   ],
   "source": [
    "clusters.fit_transform(y)"
   ]
  },
  {
   "cell_type": "code",
   "execution_count": 12,
   "id": "3b8a3536",
   "metadata": {},
   "outputs": [
    {
     "data": {
      "text/html": [
       "<div>\n",
       "<style scoped>\n",
       "    .dataframe tbody tr th:only-of-type {\n",
       "        vertical-align: middle;\n",
       "    }\n",
       "\n",
       "    .dataframe tbody tr th {\n",
       "        vertical-align: top;\n",
       "    }\n",
       "\n",
       "    .dataframe thead th {\n",
       "        text-align: right;\n",
       "    }\n",
       "</style>\n",
       "<table border=\"1\" class=\"dataframe\">\n",
       "  <thead>\n",
       "    <tr style=\"text-align: right;\">\n",
       "      <th></th>\n",
       "      <th>NEO_N</th>\n",
       "      <th>NEO_C</th>\n",
       "      <th>NEO_A</th>\n",
       "      <th>NEO_E</th>\n",
       "      <th>NEO_O</th>\n",
       "    </tr>\n",
       "  </thead>\n",
       "  <tbody>\n",
       "    <tr>\n",
       "      <th>0</th>\n",
       "      <td>1.087269</td>\n",
       "      <td>-0.778891</td>\n",
       "      <td>0.549641</td>\n",
       "      <td>-0.533903</td>\n",
       "      <td>0.620745</td>\n",
       "    </tr>\n",
       "    <tr>\n",
       "      <th>1</th>\n",
       "      <td>-0.575291</td>\n",
       "      <td>0.606533</td>\n",
       "      <td>0.505760</td>\n",
       "      <td>0.705255</td>\n",
       "      <td>0.854397</td>\n",
       "    </tr>\n",
       "    <tr>\n",
       "      <th>2</th>\n",
       "      <td>0.234721</td>\n",
       "      <td>-0.101420</td>\n",
       "      <td>-0.191934</td>\n",
       "      <td>-1.012338</td>\n",
       "      <td>-0.753978</td>\n",
       "    </tr>\n",
       "    <tr>\n",
       "      <th>3</th>\n",
       "      <td>-0.760775</td>\n",
       "      <td>0.749992</td>\n",
       "      <td>0.469661</td>\n",
       "      <td>0.435858</td>\n",
       "      <td>-0.844026</td>\n",
       "    </tr>\n",
       "    <tr>\n",
       "      <th>4</th>\n",
       "      <td>0.197650</td>\n",
       "      <td>-0.601288</td>\n",
       "      <td>-1.181162</td>\n",
       "      <td>0.390390</td>\n",
       "      <td>0.351385</td>\n",
       "    </tr>\n",
       "  </tbody>\n",
       "</table>\n",
       "</div>"
      ],
      "text/plain": [
       "      NEO_N     NEO_C     NEO_A     NEO_E     NEO_O\n",
       "0  1.087269 -0.778891  0.549641 -0.533903  0.620745\n",
       "1 -0.575291  0.606533  0.505760  0.705255  0.854397\n",
       "2  0.234721 -0.101420 -0.191934 -1.012338 -0.753978\n",
       "3 -0.760775  0.749992  0.469661  0.435858 -0.844026\n",
       "4  0.197650 -0.601288 -1.181162  0.390390  0.351385"
      ]
     },
     "execution_count": 12,
     "metadata": {},
     "output_type": "execute_result"
    }
   ],
   "source": [
    "centers=pd.DataFrame(scaler.inverse_transform(clusters.cluster_centers_),columns=y.columns)\n",
    "centers"
   ]
  },
  {
   "cell_type": "code",
   "execution_count": 13,
   "id": "9d1462ab",
   "metadata": {},
   "outputs": [
    {
     "data": {
      "text/plain": [
       "array([3, 1, 4, ..., 1, 2, 3], dtype=int32)"
      ]
     },
     "execution_count": 13,
     "metadata": {},
     "output_type": "execute_result"
    }
   ],
   "source": [
    "clusters.labels_"
   ]
  },
  {
   "cell_type": "code",
   "execution_count": 26,
   "id": "8400057b",
   "metadata": {},
   "outputs": [
    {
     "data": {
      "text/plain": [
       "array([3, 1, 4, 1, 2, 1, 2, 1, 4, 3, 2], dtype=int32)"
      ]
     },
     "execution_count": 26,
     "metadata": {},
     "output_type": "execute_result"
    }
   ],
   "source": [
    "clusters.labels_[0:11]"
   ]
  },
  {
   "cell_type": "code",
   "execution_count": 14,
   "id": "c963a9d5",
   "metadata": {},
   "outputs": [],
   "source": [
    "target_label=clusters.labels_"
   ]
  },
  {
   "cell_type": "code",
   "execution_count": 15,
   "id": "61f09339",
   "metadata": {},
   "outputs": [
    {
     "data": {
      "text/html": [
       "<div>\n",
       "<style scoped>\n",
       "    .dataframe tbody tr th:only-of-type {\n",
       "        vertical-align: middle;\n",
       "    }\n",
       "\n",
       "    .dataframe tbody tr th {\n",
       "        vertical-align: top;\n",
       "    }\n",
       "\n",
       "    .dataframe thead th {\n",
       "        text-align: right;\n",
       "    }\n",
       "</style>\n",
       "<table border=\"1\" class=\"dataframe\">\n",
       "  <thead>\n",
       "    <tr style=\"text-align: right;\">\n",
       "      <th></th>\n",
       "      <th>participant_id</th>\n",
       "      <th>age</th>\n",
       "      <th>sex</th>\n",
       "      <th>BMI</th>\n",
       "      <th>handedness</th>\n",
       "      <th>education_category</th>\n",
       "      <th>NEO_N</th>\n",
       "      <th>NEO_E</th>\n",
       "      <th>NEO_O</th>\n",
       "      <th>NEO_A</th>\n",
       "      <th>...</th>\n",
       "      <th>CC_Anterior</th>\n",
       "      <th>CortexVol</th>\n",
       "      <th>CerebralWhiteMatterVol</th>\n",
       "      <th>SubCortGrayVol</th>\n",
       "      <th>TotalGrayVol</th>\n",
       "      <th>MaskVol-to-eTIV</th>\n",
       "      <th>lhSurfaceHoles</th>\n",
       "      <th>rhSurfaceHoles</th>\n",
       "      <th>SurfaceHoles</th>\n",
       "      <th>target</th>\n",
       "    </tr>\n",
       "  </thead>\n",
       "  <tbody>\n",
       "    <tr>\n",
       "      <th>0</th>\n",
       "      <td>sub-0001</td>\n",
       "      <td>26.25</td>\n",
       "      <td>F</td>\n",
       "      <td>24.0</td>\n",
       "      <td>right</td>\n",
       "      <td>applied</td>\n",
       "      <td>35</td>\n",
       "      <td>44</td>\n",
       "      <td>37</td>\n",
       "      <td>39</td>\n",
       "      <td>...</td>\n",
       "      <td>954.7</td>\n",
       "      <td>431722.3085</td>\n",
       "      <td>412508.1558</td>\n",
       "      <td>52096</td>\n",
       "      <td>579143.3085</td>\n",
       "      <td>1.104817</td>\n",
       "      <td>12</td>\n",
       "      <td>15</td>\n",
       "      <td>27</td>\n",
       "      <td>3</td>\n",
       "    </tr>\n",
       "    <tr>\n",
       "      <th>1</th>\n",
       "      <td>sub-0002</td>\n",
       "      <td>21.00</td>\n",
       "      <td>F</td>\n",
       "      <td>23.0</td>\n",
       "      <td>right</td>\n",
       "      <td>academic</td>\n",
       "      <td>27</td>\n",
       "      <td>53</td>\n",
       "      <td>40</td>\n",
       "      <td>48</td>\n",
       "      <td>...</td>\n",
       "      <td>1007.6</td>\n",
       "      <td>551229.5244</td>\n",
       "      <td>511140.9554</td>\n",
       "      <td>61775</td>\n",
       "      <td>729961.5244</td>\n",
       "      <td>0.946018</td>\n",
       "      <td>12</td>\n",
       "      <td>3</td>\n",
       "      <td>15</td>\n",
       "      <td>1</td>\n",
       "    </tr>\n",
       "    <tr>\n",
       "      <th>2</th>\n",
       "      <td>sub-0003</td>\n",
       "      <td>23.00</td>\n",
       "      <td>M</td>\n",
       "      <td>22.0</td>\n",
       "      <td>right</td>\n",
       "      <td>academic</td>\n",
       "      <td>35</td>\n",
       "      <td>40</td>\n",
       "      <td>43</td>\n",
       "      <td>37</td>\n",
       "      <td>...</td>\n",
       "      <td>875.2</td>\n",
       "      <td>484203.7432</td>\n",
       "      <td>488806.8270</td>\n",
       "      <td>55089</td>\n",
       "      <td>666343.7432</td>\n",
       "      <td>1.121519</td>\n",
       "      <td>7</td>\n",
       "      <td>8</td>\n",
       "      <td>15</td>\n",
       "      <td>4</td>\n",
       "    </tr>\n",
       "    <tr>\n",
       "      <th>3</th>\n",
       "      <td>sub-0004</td>\n",
       "      <td>23.50</td>\n",
       "      <td>F</td>\n",
       "      <td>22.0</td>\n",
       "      <td>right</td>\n",
       "      <td>applied</td>\n",
       "      <td>29</td>\n",
       "      <td>47</td>\n",
       "      <td>41</td>\n",
       "      <td>48</td>\n",
       "      <td>...</td>\n",
       "      <td>952.1</td>\n",
       "      <td>490562.7749</td>\n",
       "      <td>424675.0400</td>\n",
       "      <td>57767</td>\n",
       "      <td>666421.7749</td>\n",
       "      <td>1.046196</td>\n",
       "      <td>14</td>\n",
       "      <td>9</td>\n",
       "      <td>23</td>\n",
       "      <td>1</td>\n",
       "    </tr>\n",
       "    <tr>\n",
       "      <th>4</th>\n",
       "      <td>sub-0005</td>\n",
       "      <td>21.75</td>\n",
       "      <td>M</td>\n",
       "      <td>19.0</td>\n",
       "      <td>ambidextrous</td>\n",
       "      <td>applied</td>\n",
       "      <td>26</td>\n",
       "      <td>35</td>\n",
       "      <td>40</td>\n",
       "      <td>38</td>\n",
       "      <td>...</td>\n",
       "      <td>941.4</td>\n",
       "      <td>549885.2510</td>\n",
       "      <td>473013.9161</td>\n",
       "      <td>60987</td>\n",
       "      <td>723713.2510</td>\n",
       "      <td>0.981137</td>\n",
       "      <td>17</td>\n",
       "      <td>12</td>\n",
       "      <td>29</td>\n",
       "      <td>2</td>\n",
       "    </tr>\n",
       "    <tr>\n",
       "      <th>...</th>\n",
       "      <td>...</td>\n",
       "      <td>...</td>\n",
       "      <td>...</td>\n",
       "      <td>...</td>\n",
       "      <td>...</td>\n",
       "      <td>...</td>\n",
       "      <td>...</td>\n",
       "      <td>...</td>\n",
       "      <td>...</td>\n",
       "      <td>...</td>\n",
       "      <td>...</td>\n",
       "      <td>...</td>\n",
       "      <td>...</td>\n",
       "      <td>...</td>\n",
       "      <td>...</td>\n",
       "      <td>...</td>\n",
       "      <td>...</td>\n",
       "      <td>...</td>\n",
       "      <td>...</td>\n",
       "      <td>...</td>\n",
       "      <td>...</td>\n",
       "    </tr>\n",
       "    <tr>\n",
       "      <th>1357</th>\n",
       "      <td>sub-1358</td>\n",
       "      <td>22.25</td>\n",
       "      <td>male</td>\n",
       "      <td>21.0</td>\n",
       "      <td>right</td>\n",
       "      <td>medium</td>\n",
       "      <td>40</td>\n",
       "      <td>39</td>\n",
       "      <td>47</td>\n",
       "      <td>38</td>\n",
       "      <td>...</td>\n",
       "      <td>887.2</td>\n",
       "      <td>517851.7456</td>\n",
       "      <td>517310.5024</td>\n",
       "      <td>66447</td>\n",
       "      <td>711842.7456</td>\n",
       "      <td>0.921517</td>\n",
       "      <td>19</td>\n",
       "      <td>23</td>\n",
       "      <td>42</td>\n",
       "      <td>0</td>\n",
       "    </tr>\n",
       "    <tr>\n",
       "      <th>1358</th>\n",
       "      <td>sub-1359</td>\n",
       "      <td>25.25</td>\n",
       "      <td>male</td>\n",
       "      <td>30.0</td>\n",
       "      <td>right</td>\n",
       "      <td>medium</td>\n",
       "      <td>28</td>\n",
       "      <td>41</td>\n",
       "      <td>48</td>\n",
       "      <td>34</td>\n",
       "      <td>...</td>\n",
       "      <td>853.7</td>\n",
       "      <td>519398.3571</td>\n",
       "      <td>565436.6994</td>\n",
       "      <td>65260</td>\n",
       "      <td>718521.3571</td>\n",
       "      <td>0.933091</td>\n",
       "      <td>20</td>\n",
       "      <td>34</td>\n",
       "      <td>54</td>\n",
       "      <td>4</td>\n",
       "    </tr>\n",
       "    <tr>\n",
       "      <th>1359</th>\n",
       "      <td>sub-1360</td>\n",
       "      <td>20.75</td>\n",
       "      <td>male</td>\n",
       "      <td>22.0</td>\n",
       "      <td>right</td>\n",
       "      <td>high</td>\n",
       "      <td>27</td>\n",
       "      <td>44</td>\n",
       "      <td>46</td>\n",
       "      <td>41</td>\n",
       "      <td>...</td>\n",
       "      <td>1128.7</td>\n",
       "      <td>567440.1256</td>\n",
       "      <td>469283.5790</td>\n",
       "      <td>61988</td>\n",
       "      <td>756582.1256</td>\n",
       "      <td>0.881901</td>\n",
       "      <td>20</td>\n",
       "      <td>33</td>\n",
       "      <td>53</td>\n",
       "      <td>1</td>\n",
       "    </tr>\n",
       "    <tr>\n",
       "      <th>1360</th>\n",
       "      <td>sub-1361</td>\n",
       "      <td>24.25</td>\n",
       "      <td>female</td>\n",
       "      <td>35.0</td>\n",
       "      <td>right</td>\n",
       "      <td>medium</td>\n",
       "      <td>35</td>\n",
       "      <td>32</td>\n",
       "      <td>44</td>\n",
       "      <td>45</td>\n",
       "      <td>...</td>\n",
       "      <td>1005.8</td>\n",
       "      <td>441752.2678</td>\n",
       "      <td>442438.1987</td>\n",
       "      <td>55159</td>\n",
       "      <td>595460.2678</td>\n",
       "      <td>1.003723</td>\n",
       "      <td>31</td>\n",
       "      <td>34</td>\n",
       "      <td>65</td>\n",
       "      <td>2</td>\n",
       "    </tr>\n",
       "    <tr>\n",
       "      <th>1361</th>\n",
       "      <td>sub-1362</td>\n",
       "      <td>20.50</td>\n",
       "      <td>male</td>\n",
       "      <td>19.0</td>\n",
       "      <td>left</td>\n",
       "      <td>high</td>\n",
       "      <td>30</td>\n",
       "      <td>46</td>\n",
       "      <td>40</td>\n",
       "      <td>42</td>\n",
       "      <td>...</td>\n",
       "      <td>1170.4</td>\n",
       "      <td>521419.8332</td>\n",
       "      <td>493900.4673</td>\n",
       "      <td>66652</td>\n",
       "      <td>725916.8332</td>\n",
       "      <td>0.885727</td>\n",
       "      <td>11</td>\n",
       "      <td>14</td>\n",
       "      <td>25</td>\n",
       "      <td>3</td>\n",
       "    </tr>\n",
       "  </tbody>\n",
       "</table>\n",
       "<p>1362 rows × 137 columns</p>\n",
       "</div>"
      ],
      "text/plain": [
       "     participant_id    age     sex   BMI    handedness education_category  \\\n",
       "0          sub-0001  26.25       F  24.0         right            applied   \n",
       "1          sub-0002  21.00       F  23.0         right           academic   \n",
       "2          sub-0003  23.00       M  22.0         right           academic   \n",
       "3          sub-0004  23.50       F  22.0         right            applied   \n",
       "4          sub-0005  21.75       M  19.0  ambidextrous            applied   \n",
       "...             ...    ...     ...   ...           ...                ...   \n",
       "1357       sub-1358  22.25    male  21.0         right             medium   \n",
       "1358       sub-1359  25.25    male  30.0         right             medium   \n",
       "1359       sub-1360  20.75    male  22.0         right               high   \n",
       "1360       sub-1361  24.25  female  35.0         right             medium   \n",
       "1361       sub-1362  20.50    male  19.0          left               high   \n",
       "\n",
       "      NEO_N  NEO_E  NEO_O  NEO_A  ...  CC_Anterior    CortexVol  \\\n",
       "0        35     44     37     39  ...        954.7  431722.3085   \n",
       "1        27     53     40     48  ...       1007.6  551229.5244   \n",
       "2        35     40     43     37  ...        875.2  484203.7432   \n",
       "3        29     47     41     48  ...        952.1  490562.7749   \n",
       "4        26     35     40     38  ...        941.4  549885.2510   \n",
       "...     ...    ...    ...    ...  ...          ...          ...   \n",
       "1357     40     39     47     38  ...        887.2  517851.7456   \n",
       "1358     28     41     48     34  ...        853.7  519398.3571   \n",
       "1359     27     44     46     41  ...       1128.7  567440.1256   \n",
       "1360     35     32     44     45  ...       1005.8  441752.2678   \n",
       "1361     30     46     40     42  ...       1170.4  521419.8332   \n",
       "\n",
       "      CerebralWhiteMatterVol  SubCortGrayVol  TotalGrayVol  MaskVol-to-eTIV  \\\n",
       "0                412508.1558           52096   579143.3085         1.104817   \n",
       "1                511140.9554           61775   729961.5244         0.946018   \n",
       "2                488806.8270           55089   666343.7432         1.121519   \n",
       "3                424675.0400           57767   666421.7749         1.046196   \n",
       "4                473013.9161           60987   723713.2510         0.981137   \n",
       "...                      ...             ...           ...              ...   \n",
       "1357             517310.5024           66447   711842.7456         0.921517   \n",
       "1358             565436.6994           65260   718521.3571         0.933091   \n",
       "1359             469283.5790           61988   756582.1256         0.881901   \n",
       "1360             442438.1987           55159   595460.2678         1.003723   \n",
       "1361             493900.4673           66652   725916.8332         0.885727   \n",
       "\n",
       "      lhSurfaceHoles  rhSurfaceHoles  SurfaceHoles  target  \n",
       "0                 12              15            27       3  \n",
       "1                 12               3            15       1  \n",
       "2                  7               8            15       4  \n",
       "3                 14               9            23       1  \n",
       "4                 17              12            29       2  \n",
       "...              ...             ...           ...     ...  \n",
       "1357              19              23            42       0  \n",
       "1358              20              34            54       4  \n",
       "1359              20              33            53       1  \n",
       "1360              31              34            65       2  \n",
       "1361              11              14            25       3  \n",
       "\n",
       "[1362 rows x 137 columns]"
      ]
     },
     "execution_count": 15,
     "metadata": {},
     "output_type": "execute_result"
    }
   ],
   "source": [
    "master['target']=target_label\n",
    "master"
   ]
  },
  {
   "cell_type": "code",
   "execution_count": 16,
   "id": "91f089cf",
   "metadata": {},
   "outputs": [
    {
     "data": {
      "text/plain": [
       "2    300\n",
       "3    286\n",
       "4    284\n",
       "1    267\n",
       "0    225\n",
       "Name: target, dtype: int64"
      ]
     },
     "execution_count": 16,
     "metadata": {},
     "output_type": "execute_result"
    }
   ],
   "source": [
    "master.target.value_counts()"
   ]
  },
  {
   "cell_type": "code",
   "execution_count": 17,
   "id": "1aed0f47",
   "metadata": {},
   "outputs": [],
   "source": [
    "gaussian_clusters=gm = GaussianMixture(n_components=5, random_state=0)"
   ]
  },
  {
   "cell_type": "code",
   "execution_count": 18,
   "id": "082bb4dc",
   "metadata": {},
   "outputs": [
    {
     "data": {
      "text/plain": [
       "GaussianMixture(n_components=5, random_state=0)"
      ]
     },
     "execution_count": 18,
     "metadata": {},
     "output_type": "execute_result"
    }
   ],
   "source": [
    "gaussian_clusters.fit(y)"
   ]
  },
  {
   "cell_type": "code",
   "execution_count": 19,
   "id": "7a844d31",
   "metadata": {},
   "outputs": [
    {
     "data": {
      "text/plain": [
       "array([[ 0.36939452,  0.03377824,  0.70017181, -0.1186042 ,  0.47495203],\n",
       "       [-0.0879497 , -0.42000532, -0.61562154,  0.46988289,  0.27763802],\n",
       "       [-0.10964357,  0.12263497, -0.14701913, -0.57167953, -0.61590809],\n",
       "       [-0.798865  ,  0.83230298,  0.53962362,  0.71891071, -0.06264678],\n",
       "       [ 1.02353298, -0.71047431, -0.27873605, -0.74534831,  0.09162942]])"
      ]
     },
     "execution_count": 19,
     "metadata": {},
     "output_type": "execute_result"
    }
   ],
   "source": [
    "gaussian_clusters.means_"
   ]
  },
  {
   "cell_type": "code",
   "execution_count": 20,
   "id": "93287b6d",
   "metadata": {},
   "outputs": [
    {
     "data": {
      "text/html": [
       "<div>\n",
       "<style scoped>\n",
       "    .dataframe tbody tr th:only-of-type {\n",
       "        vertical-align: middle;\n",
       "    }\n",
       "\n",
       "    .dataframe tbody tr th {\n",
       "        vertical-align: top;\n",
       "    }\n",
       "\n",
       "    .dataframe thead th {\n",
       "        text-align: right;\n",
       "    }\n",
       "</style>\n",
       "<table border=\"1\" class=\"dataframe\">\n",
       "  <thead>\n",
       "    <tr style=\"text-align: right;\">\n",
       "      <th></th>\n",
       "      <th>NEO_N</th>\n",
       "      <th>NEO_C</th>\n",
       "      <th>NEO_A</th>\n",
       "      <th>NEO_E</th>\n",
       "      <th>NEO_O</th>\n",
       "    </tr>\n",
       "  </thead>\n",
       "  <tbody>\n",
       "    <tr>\n",
       "      <th>0</th>\n",
       "      <td>0.369395</td>\n",
       "      <td>0.033778</td>\n",
       "      <td>0.700172</td>\n",
       "      <td>-0.118604</td>\n",
       "      <td>0.474952</td>\n",
       "    </tr>\n",
       "    <tr>\n",
       "      <th>1</th>\n",
       "      <td>-0.087950</td>\n",
       "      <td>-0.420005</td>\n",
       "      <td>-0.615622</td>\n",
       "      <td>0.469883</td>\n",
       "      <td>0.277638</td>\n",
       "    </tr>\n",
       "    <tr>\n",
       "      <th>2</th>\n",
       "      <td>-0.109644</td>\n",
       "      <td>0.122635</td>\n",
       "      <td>-0.147019</td>\n",
       "      <td>-0.571680</td>\n",
       "      <td>-0.615908</td>\n",
       "    </tr>\n",
       "    <tr>\n",
       "      <th>3</th>\n",
       "      <td>-0.798865</td>\n",
       "      <td>0.832303</td>\n",
       "      <td>0.539624</td>\n",
       "      <td>0.718911</td>\n",
       "      <td>-0.062647</td>\n",
       "    </tr>\n",
       "    <tr>\n",
       "      <th>4</th>\n",
       "      <td>1.023533</td>\n",
       "      <td>-0.710474</td>\n",
       "      <td>-0.278736</td>\n",
       "      <td>-0.745348</td>\n",
       "      <td>0.091629</td>\n",
       "    </tr>\n",
       "  </tbody>\n",
       "</table>\n",
       "</div>"
      ],
      "text/plain": [
       "      NEO_N     NEO_C     NEO_A     NEO_E     NEO_O\n",
       "0  0.369395  0.033778  0.700172 -0.118604  0.474952\n",
       "1 -0.087950 -0.420005 -0.615622  0.469883  0.277638\n",
       "2 -0.109644  0.122635 -0.147019 -0.571680 -0.615908\n",
       "3 -0.798865  0.832303  0.539624  0.718911 -0.062647\n",
       "4  1.023533 -0.710474 -0.278736 -0.745348  0.091629"
      ]
     },
     "execution_count": 20,
     "metadata": {},
     "output_type": "execute_result"
    }
   ],
   "source": [
    "gaussian_centers=pd.DataFrame(scaler.inverse_transform(gaussian_clusters.means_),columns=y.columns)\n",
    "gaussian_centers"
   ]
  },
  {
   "cell_type": "code",
   "execution_count": 21,
   "id": "5d324b49",
   "metadata": {},
   "outputs": [],
   "source": [
    "gaussian_target=gaussian_clusters.predict(y)"
   ]
  },
  {
   "cell_type": "code",
   "execution_count": 22,
   "id": "77f04189",
   "metadata": {},
   "outputs": [
    {
     "data": {
      "text/html": [
       "<div>\n",
       "<style scoped>\n",
       "    .dataframe tbody tr th:only-of-type {\n",
       "        vertical-align: middle;\n",
       "    }\n",
       "\n",
       "    .dataframe tbody tr th {\n",
       "        vertical-align: top;\n",
       "    }\n",
       "\n",
       "    .dataframe thead th {\n",
       "        text-align: right;\n",
       "    }\n",
       "</style>\n",
       "<table border=\"1\" class=\"dataframe\">\n",
       "  <thead>\n",
       "    <tr style=\"text-align: right;\">\n",
       "      <th></th>\n",
       "      <th>participant_id</th>\n",
       "      <th>age</th>\n",
       "      <th>sex</th>\n",
       "      <th>BMI</th>\n",
       "      <th>handedness</th>\n",
       "      <th>education_category</th>\n",
       "      <th>NEO_N</th>\n",
       "      <th>NEO_E</th>\n",
       "      <th>NEO_O</th>\n",
       "      <th>NEO_A</th>\n",
       "      <th>...</th>\n",
       "      <th>CortexVol</th>\n",
       "      <th>CerebralWhiteMatterVol</th>\n",
       "      <th>SubCortGrayVol</th>\n",
       "      <th>TotalGrayVol</th>\n",
       "      <th>MaskVol-to-eTIV</th>\n",
       "      <th>lhSurfaceHoles</th>\n",
       "      <th>rhSurfaceHoles</th>\n",
       "      <th>SurfaceHoles</th>\n",
       "      <th>target</th>\n",
       "      <th>gaussian_target</th>\n",
       "    </tr>\n",
       "  </thead>\n",
       "  <tbody>\n",
       "    <tr>\n",
       "      <th>0</th>\n",
       "      <td>sub-0001</td>\n",
       "      <td>26.25</td>\n",
       "      <td>F</td>\n",
       "      <td>24.0</td>\n",
       "      <td>right</td>\n",
       "      <td>applied</td>\n",
       "      <td>35</td>\n",
       "      <td>44</td>\n",
       "      <td>37</td>\n",
       "      <td>39</td>\n",
       "      <td>...</td>\n",
       "      <td>431722.3085</td>\n",
       "      <td>412508.1558</td>\n",
       "      <td>52096</td>\n",
       "      <td>579143.3085</td>\n",
       "      <td>1.104817</td>\n",
       "      <td>12</td>\n",
       "      <td>15</td>\n",
       "      <td>27</td>\n",
       "      <td>3</td>\n",
       "      <td>3</td>\n",
       "    </tr>\n",
       "    <tr>\n",
       "      <th>1</th>\n",
       "      <td>sub-0002</td>\n",
       "      <td>21.00</td>\n",
       "      <td>F</td>\n",
       "      <td>23.0</td>\n",
       "      <td>right</td>\n",
       "      <td>academic</td>\n",
       "      <td>27</td>\n",
       "      <td>53</td>\n",
       "      <td>40</td>\n",
       "      <td>48</td>\n",
       "      <td>...</td>\n",
       "      <td>551229.5244</td>\n",
       "      <td>511140.9554</td>\n",
       "      <td>61775</td>\n",
       "      <td>729961.5244</td>\n",
       "      <td>0.946018</td>\n",
       "      <td>12</td>\n",
       "      <td>3</td>\n",
       "      <td>15</td>\n",
       "      <td>1</td>\n",
       "      <td>1</td>\n",
       "    </tr>\n",
       "    <tr>\n",
       "      <th>2</th>\n",
       "      <td>sub-0003</td>\n",
       "      <td>23.00</td>\n",
       "      <td>M</td>\n",
       "      <td>22.0</td>\n",
       "      <td>right</td>\n",
       "      <td>academic</td>\n",
       "      <td>35</td>\n",
       "      <td>40</td>\n",
       "      <td>43</td>\n",
       "      <td>37</td>\n",
       "      <td>...</td>\n",
       "      <td>484203.7432</td>\n",
       "      <td>488806.8270</td>\n",
       "      <td>55089</td>\n",
       "      <td>666343.7432</td>\n",
       "      <td>1.121519</td>\n",
       "      <td>7</td>\n",
       "      <td>8</td>\n",
       "      <td>15</td>\n",
       "      <td>4</td>\n",
       "      <td>1</td>\n",
       "    </tr>\n",
       "    <tr>\n",
       "      <th>3</th>\n",
       "      <td>sub-0004</td>\n",
       "      <td>23.50</td>\n",
       "      <td>F</td>\n",
       "      <td>22.0</td>\n",
       "      <td>right</td>\n",
       "      <td>applied</td>\n",
       "      <td>29</td>\n",
       "      <td>47</td>\n",
       "      <td>41</td>\n",
       "      <td>48</td>\n",
       "      <td>...</td>\n",
       "      <td>490562.7749</td>\n",
       "      <td>424675.0400</td>\n",
       "      <td>57767</td>\n",
       "      <td>666421.7749</td>\n",
       "      <td>1.046196</td>\n",
       "      <td>14</td>\n",
       "      <td>9</td>\n",
       "      <td>23</td>\n",
       "      <td>1</td>\n",
       "      <td>3</td>\n",
       "    </tr>\n",
       "    <tr>\n",
       "      <th>4</th>\n",
       "      <td>sub-0005</td>\n",
       "      <td>21.75</td>\n",
       "      <td>M</td>\n",
       "      <td>19.0</td>\n",
       "      <td>ambidextrous</td>\n",
       "      <td>applied</td>\n",
       "      <td>26</td>\n",
       "      <td>35</td>\n",
       "      <td>40</td>\n",
       "      <td>38</td>\n",
       "      <td>...</td>\n",
       "      <td>549885.2510</td>\n",
       "      <td>473013.9161</td>\n",
       "      <td>60987</td>\n",
       "      <td>723713.2510</td>\n",
       "      <td>0.981137</td>\n",
       "      <td>17</td>\n",
       "      <td>12</td>\n",
       "      <td>29</td>\n",
       "      <td>2</td>\n",
       "      <td>2</td>\n",
       "    </tr>\n",
       "    <tr>\n",
       "      <th>...</th>\n",
       "      <td>...</td>\n",
       "      <td>...</td>\n",
       "      <td>...</td>\n",
       "      <td>...</td>\n",
       "      <td>...</td>\n",
       "      <td>...</td>\n",
       "      <td>...</td>\n",
       "      <td>...</td>\n",
       "      <td>...</td>\n",
       "      <td>...</td>\n",
       "      <td>...</td>\n",
       "      <td>...</td>\n",
       "      <td>...</td>\n",
       "      <td>...</td>\n",
       "      <td>...</td>\n",
       "      <td>...</td>\n",
       "      <td>...</td>\n",
       "      <td>...</td>\n",
       "      <td>...</td>\n",
       "      <td>...</td>\n",
       "      <td>...</td>\n",
       "    </tr>\n",
       "    <tr>\n",
       "      <th>1357</th>\n",
       "      <td>sub-1358</td>\n",
       "      <td>22.25</td>\n",
       "      <td>male</td>\n",
       "      <td>21.0</td>\n",
       "      <td>right</td>\n",
       "      <td>medium</td>\n",
       "      <td>40</td>\n",
       "      <td>39</td>\n",
       "      <td>47</td>\n",
       "      <td>38</td>\n",
       "      <td>...</td>\n",
       "      <td>517851.7456</td>\n",
       "      <td>517310.5024</td>\n",
       "      <td>66447</td>\n",
       "      <td>711842.7456</td>\n",
       "      <td>0.921517</td>\n",
       "      <td>19</td>\n",
       "      <td>23</td>\n",
       "      <td>42</td>\n",
       "      <td>0</td>\n",
       "      <td>4</td>\n",
       "    </tr>\n",
       "    <tr>\n",
       "      <th>1358</th>\n",
       "      <td>sub-1359</td>\n",
       "      <td>25.25</td>\n",
       "      <td>male</td>\n",
       "      <td>30.0</td>\n",
       "      <td>right</td>\n",
       "      <td>medium</td>\n",
       "      <td>28</td>\n",
       "      <td>41</td>\n",
       "      <td>48</td>\n",
       "      <td>34</td>\n",
       "      <td>...</td>\n",
       "      <td>519398.3571</td>\n",
       "      <td>565436.6994</td>\n",
       "      <td>65260</td>\n",
       "      <td>718521.3571</td>\n",
       "      <td>0.933091</td>\n",
       "      <td>20</td>\n",
       "      <td>34</td>\n",
       "      <td>54</td>\n",
       "      <td>4</td>\n",
       "      <td>1</td>\n",
       "    </tr>\n",
       "    <tr>\n",
       "      <th>1359</th>\n",
       "      <td>sub-1360</td>\n",
       "      <td>20.75</td>\n",
       "      <td>male</td>\n",
       "      <td>22.0</td>\n",
       "      <td>right</td>\n",
       "      <td>high</td>\n",
       "      <td>27</td>\n",
       "      <td>44</td>\n",
       "      <td>46</td>\n",
       "      <td>41</td>\n",
       "      <td>...</td>\n",
       "      <td>567440.1256</td>\n",
       "      <td>469283.5790</td>\n",
       "      <td>61988</td>\n",
       "      <td>756582.1256</td>\n",
       "      <td>0.881901</td>\n",
       "      <td>20</td>\n",
       "      <td>33</td>\n",
       "      <td>53</td>\n",
       "      <td>1</td>\n",
       "      <td>3</td>\n",
       "    </tr>\n",
       "    <tr>\n",
       "      <th>1360</th>\n",
       "      <td>sub-1361</td>\n",
       "      <td>24.25</td>\n",
       "      <td>female</td>\n",
       "      <td>35.0</td>\n",
       "      <td>right</td>\n",
       "      <td>medium</td>\n",
       "      <td>35</td>\n",
       "      <td>32</td>\n",
       "      <td>44</td>\n",
       "      <td>45</td>\n",
       "      <td>...</td>\n",
       "      <td>441752.2678</td>\n",
       "      <td>442438.1987</td>\n",
       "      <td>55159</td>\n",
       "      <td>595460.2678</td>\n",
       "      <td>1.003723</td>\n",
       "      <td>31</td>\n",
       "      <td>34</td>\n",
       "      <td>65</td>\n",
       "      <td>2</td>\n",
       "      <td>2</td>\n",
       "    </tr>\n",
       "    <tr>\n",
       "      <th>1361</th>\n",
       "      <td>sub-1362</td>\n",
       "      <td>20.50</td>\n",
       "      <td>male</td>\n",
       "      <td>19.0</td>\n",
       "      <td>left</td>\n",
       "      <td>high</td>\n",
       "      <td>30</td>\n",
       "      <td>46</td>\n",
       "      <td>40</td>\n",
       "      <td>42</td>\n",
       "      <td>...</td>\n",
       "      <td>521419.8332</td>\n",
       "      <td>493900.4673</td>\n",
       "      <td>66652</td>\n",
       "      <td>725916.8332</td>\n",
       "      <td>0.885727</td>\n",
       "      <td>11</td>\n",
       "      <td>14</td>\n",
       "      <td>25</td>\n",
       "      <td>3</td>\n",
       "      <td>1</td>\n",
       "    </tr>\n",
       "  </tbody>\n",
       "</table>\n",
       "<p>1362 rows × 138 columns</p>\n",
       "</div>"
      ],
      "text/plain": [
       "     participant_id    age     sex   BMI    handedness education_category  \\\n",
       "0          sub-0001  26.25       F  24.0         right            applied   \n",
       "1          sub-0002  21.00       F  23.0         right           academic   \n",
       "2          sub-0003  23.00       M  22.0         right           academic   \n",
       "3          sub-0004  23.50       F  22.0         right            applied   \n",
       "4          sub-0005  21.75       M  19.0  ambidextrous            applied   \n",
       "...             ...    ...     ...   ...           ...                ...   \n",
       "1357       sub-1358  22.25    male  21.0         right             medium   \n",
       "1358       sub-1359  25.25    male  30.0         right             medium   \n",
       "1359       sub-1360  20.75    male  22.0         right               high   \n",
       "1360       sub-1361  24.25  female  35.0         right             medium   \n",
       "1361       sub-1362  20.50    male  19.0          left               high   \n",
       "\n",
       "      NEO_N  NEO_E  NEO_O  NEO_A  ...    CortexVol  CerebralWhiteMatterVol  \\\n",
       "0        35     44     37     39  ...  431722.3085             412508.1558   \n",
       "1        27     53     40     48  ...  551229.5244             511140.9554   \n",
       "2        35     40     43     37  ...  484203.7432             488806.8270   \n",
       "3        29     47     41     48  ...  490562.7749             424675.0400   \n",
       "4        26     35     40     38  ...  549885.2510             473013.9161   \n",
       "...     ...    ...    ...    ...  ...          ...                     ...   \n",
       "1357     40     39     47     38  ...  517851.7456             517310.5024   \n",
       "1358     28     41     48     34  ...  519398.3571             565436.6994   \n",
       "1359     27     44     46     41  ...  567440.1256             469283.5790   \n",
       "1360     35     32     44     45  ...  441752.2678             442438.1987   \n",
       "1361     30     46     40     42  ...  521419.8332             493900.4673   \n",
       "\n",
       "      SubCortGrayVol  TotalGrayVol  MaskVol-to-eTIV  lhSurfaceHoles  \\\n",
       "0              52096   579143.3085         1.104817              12   \n",
       "1              61775   729961.5244         0.946018              12   \n",
       "2              55089   666343.7432         1.121519               7   \n",
       "3              57767   666421.7749         1.046196              14   \n",
       "4              60987   723713.2510         0.981137              17   \n",
       "...              ...           ...              ...             ...   \n",
       "1357           66447   711842.7456         0.921517              19   \n",
       "1358           65260   718521.3571         0.933091              20   \n",
       "1359           61988   756582.1256         0.881901              20   \n",
       "1360           55159   595460.2678         1.003723              31   \n",
       "1361           66652   725916.8332         0.885727              11   \n",
       "\n",
       "      rhSurfaceHoles  SurfaceHoles  target  gaussian_target  \n",
       "0                 15            27       3                3  \n",
       "1                  3            15       1                1  \n",
       "2                  8            15       4                1  \n",
       "3                  9            23       1                3  \n",
       "4                 12            29       2                2  \n",
       "...              ...           ...     ...              ...  \n",
       "1357              23            42       0                4  \n",
       "1358              34            54       4                1  \n",
       "1359              33            53       1                3  \n",
       "1360              34            65       2                2  \n",
       "1361              14            25       3                1  \n",
       "\n",
       "[1362 rows x 138 columns]"
      ]
     },
     "execution_count": 22,
     "metadata": {},
     "output_type": "execute_result"
    }
   ],
   "source": [
    "master['gaussian_target']=gaussian_target\n",
    "master"
   ]
  },
  {
   "cell_type": "code",
   "execution_count": 25,
   "id": "2a7d4e7b",
   "metadata": {},
   "outputs": [
    {
     "data": {
      "text/plain": [
       "0     3\n",
       "1     1\n",
       "2     1\n",
       "3     3\n",
       "4     2\n",
       "5     3\n",
       "6     2\n",
       "7     3\n",
       "8     1\n",
       "9     3\n",
       "10    2\n",
       "Name: gaussian_target, dtype: int64"
      ]
     },
     "execution_count": 25,
     "metadata": {},
     "output_type": "execute_result"
    }
   ],
   "source": [
    "master[\"gaussian_target\"][0:11]"
   ]
  },
  {
   "cell_type": "markdown",
   "id": "45303048",
   "metadata": {},
   "source": [
    "# Random Forest\n"
   ]
  },
  {
   "cell_type": "markdown",
   "id": "0b64955c",
   "metadata": {
    "heading_collapsed": true
   },
   "source": [
    "## Data - X  and y"
   ]
  },
  {
   "cell_type": "code",
   "execution_count": null,
   "id": "56590843",
   "metadata": {
    "hidden": true
   },
   "outputs": [],
   "source": [
    "df = master.copy()"
   ]
  },
  {
   "cell_type": "code",
   "execution_count": null,
   "id": "6e035b4b",
   "metadata": {
    "hidden": true
   },
   "outputs": [],
   "source": [
    "df.dropna(inplace=True)"
   ]
  },
  {
   "cell_type": "code",
   "execution_count": null,
   "id": "f687d59e",
   "metadata": {
    "hidden": true
   },
   "outputs": [],
   "source": [
    "X = df.drop(columns=[\"participant_id\",\"NEO_N\",\"NEO_E\",\"NEO_O\",\"NEO_A\",\"NEO_O\",\"NEO_C\",\"target\",\"gaussian_target\"])"
   ]
  },
  {
   "cell_type": "code",
   "execution_count": null,
   "id": "62eda50f",
   "metadata": {
    "hidden": true
   },
   "outputs": [],
   "source": [
    "y = df[\"gaussian_target\"]"
   ]
  },
  {
   "cell_type": "markdown",
   "id": "28f483a8",
   "metadata": {
    "heading_collapsed": true
   },
   "source": [
    "## Data pre-processing"
   ]
  },
  {
   "cell_type": "code",
   "execution_count": null,
   "id": "eaceaeb9",
   "metadata": {
    "hidden": true
   },
   "outputs": [],
   "source": [
    "X['sex'].replace('F','female',inplace=True)"
   ]
  },
  {
   "cell_type": "code",
   "execution_count": null,
   "id": "30f0ee91",
   "metadata": {
    "hidden": true
   },
   "outputs": [],
   "source": [
    "X['sex'].replace('M','male',inplace=True)"
   ]
  },
  {
   "cell_type": "code",
   "execution_count": null,
   "id": "55cd7635",
   "metadata": {
    "hidden": true,
    "scrolled": true
   },
   "outputs": [],
   "source": [
    "X"
   ]
  },
  {
   "cell_type": "code",
   "execution_count": null,
   "id": "12278f75",
   "metadata": {
    "hidden": true
   },
   "outputs": [],
   "source": [
    "X[\"sex\"].unique()"
   ]
  },
  {
   "cell_type": "code",
   "execution_count": null,
   "id": "4c001cb8",
   "metadata": {
    "hidden": true
   },
   "outputs": [],
   "source": [
    "X[\"handedness\"].unique()"
   ]
  },
  {
   "cell_type": "code",
   "execution_count": null,
   "id": "9ca11dce",
   "metadata": {
    "hidden": true
   },
   "outputs": [],
   "source": [
    "X[\"education_category\"].unique()"
   ]
  },
  {
   "cell_type": "code",
   "execution_count": null,
   "id": "eeed0994",
   "metadata": {
    "hidden": true
   },
   "outputs": [],
   "source": [
    "X.shape"
   ]
  },
  {
   "cell_type": "code",
   "execution_count": null,
   "id": "5769dc5a",
   "metadata": {
    "hidden": true
   },
   "outputs": [],
   "source": [
    "X[\"sex\"].unique()"
   ]
  },
  {
   "cell_type": "code",
   "execution_count": null,
   "id": "98dbdc6b",
   "metadata": {
    "hidden": true
   },
   "outputs": [],
   "source": [
    "#Encoding SEX \n",
    "X[\"sex_enc\"] = X['sex'].replace('female',0)"
   ]
  },
  {
   "cell_type": "code",
   "execution_count": null,
   "id": "edf019ac",
   "metadata": {
    "hidden": true
   },
   "outputs": [],
   "source": [
    "X[\"sex_enc\"].replace(\"male\",1,inplace=True)"
   ]
  },
  {
   "cell_type": "code",
   "execution_count": null,
   "id": "1848dfa8",
   "metadata": {
    "hidden": true
   },
   "outputs": [],
   "source": [
    "X"
   ]
  },
  {
   "cell_type": "code",
   "execution_count": null,
   "id": "3c623f5e",
   "metadata": {
    "hidden": true
   },
   "outputs": [],
   "source": [
    "#Encoding Handedness\n",
    "enc = OneHotEncoder(sparse = False)\n",
    "enc.fit(X[[\"handedness\"]])\n",
    "hand_enc = enc.transform(X[[\"handedness\"]])\n",
    "X[\"right\"],X[\"left\"],X[\"ambidextrous\"] = hand_enc.T"
   ]
  },
  {
   "cell_type": "code",
   "execution_count": null,
   "id": "32dbd936",
   "metadata": {
    "hidden": true
   },
   "outputs": [],
   "source": [
    "#Encoding Education\n",
    "enc = OneHotEncoder(sparse = False)\n",
    "enc.fit(X[[\"education_category\"]])\n",
    "ed_enc = enc.transform(X[[\"education_category\"]])\n",
    "X[\"applied\"],X[\"academic\"],X[\"medium\"],X[\"high\"],X[\"low\"] = ed_enc.T"
   ]
  },
  {
   "cell_type": "code",
   "execution_count": null,
   "id": "a08ff9cc",
   "metadata": {
    "hidden": true
   },
   "outputs": [],
   "source": [
    "X"
   ]
  },
  {
   "cell_type": "code",
   "execution_count": null,
   "id": "5581eb0c",
   "metadata": {
    "hidden": true
   },
   "outputs": [],
   "source": [
    "X.drop(columns=[\"sex\",\"handedness\",\"education_category\"], inplace = True)"
   ]
  },
  {
   "cell_type": "markdown",
   "id": "45bc4d05",
   "metadata": {},
   "source": [
    "## Model - Random Forest - Gaussian target"
   ]
  },
  {
   "cell_type": "markdown",
   "id": "16de4d84",
   "metadata": {},
   "source": [
    "### Model data"
   ]
  },
  {
   "cell_type": "code",
   "execution_count": null,
   "id": "c9c9b634",
   "metadata": {},
   "outputs": [],
   "source": [
    "X"
   ]
  },
  {
   "cell_type": "code",
   "execution_count": null,
   "id": "654ed730",
   "metadata": {},
   "outputs": [],
   "source": [
    "y"
   ]
  },
  {
   "cell_type": "code",
   "execution_count": null,
   "id": "ef5dd5ca",
   "metadata": {},
   "outputs": [],
   "source": [
    "y"
   ]
  },
  {
   "cell_type": "markdown",
   "id": "2a3c0733",
   "metadata": {
    "heading_collapsed": true
   },
   "source": [
    "### Baseline model"
   ]
  },
  {
   "cell_type": "code",
   "execution_count": null,
   "id": "f7443cea",
   "metadata": {
    "hidden": true
   },
   "outputs": [],
   "source": [
    "master.target.value_counts()/len(X)"
   ]
  },
  {
   "cell_type": "code",
   "execution_count": null,
   "id": "c54c351f",
   "metadata": {
    "hidden": true
   },
   "outputs": [],
   "source": [
    "forest = RandomForestClassifier(n_estimators=100,n_jobs=-1,max_features=136)\n",
    "cv_results = cross_validate(forest, X, y, scoring = \"accuracy\", cv=3)\n",
    "print(cv_results['test_score'])"
   ]
  },
  {
   "cell_type": "code",
   "execution_count": null,
   "id": "34a1dde0",
   "metadata": {
    "hidden": true
   },
   "outputs": [],
   "source": [
    "#model 2\n",
    "forest = RandomForestClassifier(n_estimators=200,max_depth =5,n_jobs=-1,max_features=136)\n",
    "cv_results = cross_validate(forest, X, y, scoring = \"accuracy\", cv=3)\n",
    "print(cv_results['test_score'])"
   ]
  },
  {
   "cell_type": "code",
   "execution_count": null,
   "id": "ec9b0198",
   "metadata": {
    "hidden": true
   },
   "outputs": [],
   "source": [
    "#model 3\n",
    "forest = RandomForestClassifier(n_estimators=200,n_jobs=-1, max_depth = 5, max_features = 136)\n",
    "cv_results = cross_validate(forest, X, y, scoring = \"accuracy\", cv=3)\n",
    "print(cv_results['test_score'])"
   ]
  },
  {
   "cell_type": "code",
   "execution_count": null,
   "id": "2da04504",
   "metadata": {
    "hidden": true
   },
   "outputs": [],
   "source": [
    "forest.fit(X,y)"
   ]
  },
  {
   "cell_type": "code",
   "execution_count": null,
   "id": "c1e0a916",
   "metadata": {
    "hidden": true
   },
   "outputs": [],
   "source": [
    "df_features_import = pd.DataFrame(forest.feature_importances_)"
   ]
  },
  {
   "cell_type": "code",
   "execution_count": null,
   "id": "19f3a411",
   "metadata": {
    "hidden": true
   },
   "outputs": [],
   "source": [
    "df_features_import.index=X.columns"
   ]
  },
  {
   "cell_type": "code",
   "execution_count": null,
   "id": "8a600e32",
   "metadata": {
    "hidden": true
   },
   "outputs": [],
   "source": [
    "df_features_import.sort_values(0,ascending=False)"
   ]
  },
  {
   "cell_type": "code",
   "execution_count": null,
   "id": "96519122",
   "metadata": {
    "hidden": true
   },
   "outputs": [],
   "source": [
    "len(forest.estimators_)"
   ]
  },
  {
   "cell_type": "code",
   "execution_count": null,
   "id": "32a2ac1c",
   "metadata": {
    "hidden": true
   },
   "outputs": [],
   "source": [
    "fig,ax = plt.subplots(1,1,figsize=(20,20))\n",
    "plot_tree(forest.estimators_[20],ax=ax);"
   ]
  },
  {
   "cell_type": "code",
   "execution_count": null,
   "id": "f4839394",
   "metadata": {
    "hidden": true
   },
   "outputs": [],
   "source": [
    "#!pip install graphviz"
   ]
  },
  {
   "cell_type": "code",
   "execution_count": null,
   "id": "ddee6406",
   "metadata": {
    "hidden": true
   },
   "outputs": [],
   "source": [
    "#tree_file = export_graphviz(forest.estimators_[20],out_file=\"tree.dot\")"
   ]
  },
  {
   "cell_type": "code",
   "execution_count": null,
   "id": "5d90d4e4",
   "metadata": {
    "hidden": true
   },
   "outputs": [],
   "source": [
    "#gp.Source(tree_file,filename =\"tree.dot\",format=\"png\")"
   ]
  },
  {
   "cell_type": "markdown",
   "id": "f04326ae",
   "metadata": {
    "heading_collapsed": true
   },
   "source": [
    "### Grid Search - optimizing the model"
   ]
  },
  {
   "cell_type": "code",
   "execution_count": null,
   "id": "076f1cae",
   "metadata": {
    "hidden": true
   },
   "outputs": [],
   "source": [
    "#Parameters to tune\n",
    "\n",
    "#number of trees in the foreset\n",
    "#n_estimators = [100,150,200]\n",
    "# Maximum number of levels in tree\n",
    "max_depth = [5,10,15,20,25,30]\n",
    "#Maximum number of features per tree\n",
    "max_features = [15,20,25,30,50,100]\n",
    "\n",
    "#Create the random grid\n",
    "\n",
    "grid={\n",
    "    #\"n_estimators\": n_estimators,\n",
    "    \"max_depth\": max_depth,\n",
    "    \"max_features\": max_features\n",
    "}\n",
    "\n",
    "print(grid)"
   ]
  },
  {
   "cell_type": "code",
   "execution_count": null,
   "id": "93de272c",
   "metadata": {
    "hidden": true
   },
   "outputs": [],
   "source": [
    "model = RandomForestClassifier()\n",
    "\n",
    "grid_search = GridSearchCV(estimator = model,param_grid= grid,cv= 3,n_jobs=-1)"
   ]
  },
  {
   "cell_type": "code",
   "execution_count": null,
   "id": "aa54a514",
   "metadata": {
    "hidden": true
   },
   "outputs": [],
   "source": [
    "#fit the grid data\n",
    "grid_search.fit(X, y)\n",
    "\n",
    "#calculate the best parameters\n",
    "grid_search.best_params_"
   ]
  },
  {
   "cell_type": "code",
   "execution_count": null,
   "id": "0aed059f",
   "metadata": {
    "hidden": true
   },
   "outputs": [],
   "source": [
    "forest = RandomForestClassifier(n_jobs=-1, max_depth = 30, max_features = 100)\n",
    "cv_results = cross_validate(forest, X, y, scoring = \"accuracy\", cv=3)\n",
    "print(cv_results['test_score'])"
   ]
  },
  {
   "cell_type": "markdown",
   "id": "46b8c22b",
   "metadata": {},
   "source": [
    "## Model - Random Forest - Kmeans target"
   ]
  },
  {
   "cell_type": "markdown",
   "id": "305e4427",
   "metadata": {
    "heading_collapsed": true
   },
   "source": [
    "### Data & preprocessing"
   ]
  },
  {
   "cell_type": "code",
   "execution_count": null,
   "id": "dc160afa",
   "metadata": {
    "hidden": true
   },
   "outputs": [],
   "source": [
    "df = master.copy()"
   ]
  },
  {
   "cell_type": "code",
   "execution_count": null,
   "id": "ca1ef00a",
   "metadata": {
    "hidden": true
   },
   "outputs": [],
   "source": [
    "df.dropna(inplace=True)"
   ]
  },
  {
   "cell_type": "code",
   "execution_count": null,
   "id": "48b83583",
   "metadata": {
    "hidden": true
   },
   "outputs": [],
   "source": [
    "X = df.drop(columns=[\"participant_id\",\"NEO_N\",\"NEO_E\",\"NEO_O\",\"NEO_A\",\"NEO_O\",\"NEO_C\",\"target\",\"gaussian_target\"])"
   ]
  },
  {
   "cell_type": "code",
   "execution_count": null,
   "id": "8901ab56",
   "metadata": {
    "hidden": true
   },
   "outputs": [],
   "source": [
    "y = df[\"target\"]"
   ]
  },
  {
   "cell_type": "code",
   "execution_count": null,
   "id": "af6e111e",
   "metadata": {
    "hidden": true
   },
   "outputs": [],
   "source": [
    "X['sex'].replace('F','female',inplace=True)"
   ]
  },
  {
   "cell_type": "code",
   "execution_count": null,
   "id": "318e21f4",
   "metadata": {
    "hidden": true
   },
   "outputs": [],
   "source": [
    "X['sex'].replace('M','male',inplace=True)"
   ]
  },
  {
   "cell_type": "code",
   "execution_count": null,
   "id": "d6783ce4",
   "metadata": {
    "hidden": true
   },
   "outputs": [],
   "source": [
    "X[\"sex_enc\"] = X['sex'].replace('female',0)"
   ]
  },
  {
   "cell_type": "code",
   "execution_count": null,
   "id": "5dffd310",
   "metadata": {
    "hidden": true
   },
   "outputs": [],
   "source": [
    "X[\"sex_enc\"].replace(\"male\",1,inplace=True)"
   ]
  },
  {
   "cell_type": "code",
   "execution_count": null,
   "id": "67b0840f",
   "metadata": {
    "hidden": true
   },
   "outputs": [],
   "source": [
    "#Encoding Handedness\n",
    "enc = OneHotEncoder(sparse = False)\n",
    "enc.fit(X[[\"handedness\"]])\n",
    "hand_enc = enc.transform(X[[\"handedness\"]])\n",
    "X[\"right\"],X[\"left\"],X[\"ambidextrous\"] = hand_enc.T"
   ]
  },
  {
   "cell_type": "code",
   "execution_count": null,
   "id": "4a00c170",
   "metadata": {
    "hidden": true
   },
   "outputs": [],
   "source": [
    "#Encoding Education\n",
    "enc = OneHotEncoder(sparse = False)\n",
    "enc.fit(X[[\"education_category\"]])\n",
    "ed_enc = enc.transform(X[[\"education_category\"]])\n",
    "X[\"applied\"],X[\"academic\"],X[\"medium\"],X[\"high\"],X[\"low\"] = ed_enc.T"
   ]
  },
  {
   "cell_type": "code",
   "execution_count": null,
   "id": "65b6bcec",
   "metadata": {
    "hidden": true
   },
   "outputs": [],
   "source": [
    "X.drop(columns=[\"sex\",\"handedness\",\"education_category\"], inplace = True)"
   ]
  },
  {
   "cell_type": "markdown",
   "id": "111c4938",
   "metadata": {
    "heading_collapsed": true
   },
   "source": [
    "### Baseline model"
   ]
  },
  {
   "cell_type": "code",
   "execution_count": null,
   "id": "4707c694",
   "metadata": {
    "hidden": true
   },
   "outputs": [],
   "source": [
    "master.target.value_counts()/len(X)"
   ]
  },
  {
   "cell_type": "markdown",
   "id": "b5995ced",
   "metadata": {},
   "source": [
    "### Grid Search - optimizing the model"
   ]
  },
  {
   "cell_type": "code",
   "execution_count": null,
   "id": "334c8e62",
   "metadata": {},
   "outputs": [],
   "source": [
    "#Parameters to tune\n",
    "\n",
    "# Maximum number of levels in tree\n",
    "max_depth = [5,10,15,20,25,30]\n",
    "#Maximum number of features per tree\n",
    "max_features = [15,20,25,30,50,100]\n",
    "\n",
    "#Create the random grid\n",
    "\n",
    "grid={\n",
    "    #\"n_estimators\": n_estimators,\n",
    "    \"max_depth\": max_depth,\n",
    "    \"max_features\": max_features\n",
    "}\n",
    "\n",
    "print(grid)"
   ]
  },
  {
   "cell_type": "code",
   "execution_count": null,
   "id": "40158561",
   "metadata": {},
   "outputs": [],
   "source": [
    "model = RandomForestClassifier()\n",
    "\n",
    "grid_search = GridSearchCV(estimator = model,param_grid= grid,cv= 3,n_jobs=-1)"
   ]
  },
  {
   "cell_type": "code",
   "execution_count": null,
   "id": "b4da9b7f",
   "metadata": {},
   "outputs": [],
   "source": [
    "#fit the grid data\n",
    "grid_search.fit(X, y)\n",
    "\n",
    "#calculate the best parameters\n",
    "grid_search.best_params_"
   ]
  },
  {
   "cell_type": "code",
   "execution_count": null,
   "id": "3f783b1a",
   "metadata": {},
   "outputs": [],
   "source": [
    "forest = RandomForestClassifier(n_jobs=-1, max_depth = 5, max_features = 15)\n",
    "cv_results = cross_validate(forest, X, y, scoring = \"accuracy\", cv=3)\n",
    "print(cv_results['test_score'])"
   ]
  },
  {
   "cell_type": "markdown",
   "id": "febef5d6",
   "metadata": {},
   "source": [
    "# Random Forest Individual targets"
   ]
  },
  {
   "cell_type": "markdown",
   "id": "e6d06cc6",
   "metadata": {},
   "source": [
    "## Data and preprocessing"
   ]
  },
  {
   "cell_type": "code",
   "execution_count": null,
   "id": "28bd173f",
   "metadata": {},
   "outputs": [],
   "source": [
    "df = master.copy()"
   ]
  },
  {
   "cell_type": "code",
   "execution_count": null,
   "id": "3f3de18f",
   "metadata": {},
   "outputs": [],
   "source": [
    "df.dropna(inplace=True)"
   ]
  },
  {
   "cell_type": "code",
   "execution_count": null,
   "id": "a5c63c2a",
   "metadata": {},
   "outputs": [],
   "source": [
    "df['sex'].replace('F','female',inplace=True)"
   ]
  },
  {
   "cell_type": "code",
   "execution_count": null,
   "id": "73b2bf2a",
   "metadata": {},
   "outputs": [],
   "source": [
    "df['sex'].replace('M','male',inplace=True)"
   ]
  },
  {
   "cell_type": "code",
   "execution_count": null,
   "id": "212ce80e",
   "metadata": {},
   "outputs": [],
   "source": [
    "df[\"sex_enc\"] = df['sex'].replace('female',0)"
   ]
  },
  {
   "cell_type": "code",
   "execution_count": null,
   "id": "38ee06e0",
   "metadata": {},
   "outputs": [],
   "source": [
    "df[\"sex_enc\"].replace(\"male\",1,inplace=True)"
   ]
  },
  {
   "cell_type": "code",
   "execution_count": null,
   "id": "af898718",
   "metadata": {},
   "outputs": [],
   "source": [
    "#Encoding Handedness\n",
    "enc = OneHotEncoder(sparse = False)\n",
    "enc.fit(df[[\"handedness\"]])\n",
    "hand_enc = enc.transform(df[[\"handedness\"]])\n",
    "df[\"right\"],df[\"left\"],df[\"ambidextrous\"] = hand_enc.T"
   ]
  },
  {
   "cell_type": "code",
   "execution_count": null,
   "id": "1155b888",
   "metadata": {},
   "outputs": [],
   "source": [
    "#Encoding Education\n",
    "enc = OneHotEncoder(sparse = False)\n",
    "enc.fit(df[[\"education_category\"]])\n",
    "ed_enc = enc.transform(df[[\"education_category\"]])\n",
    "df[\"applied\"],df[\"academic\"],df[\"medium\"],df[\"high\"],df[\"low\"] = ed_enc.T"
   ]
  },
  {
   "cell_type": "code",
   "execution_count": null,
   "id": "cd462330",
   "metadata": {},
   "outputs": [],
   "source": [
    "df"
   ]
  },
  {
   "cell_type": "code",
   "execution_count": null,
   "id": "b7e29e2d",
   "metadata": {},
   "outputs": [],
   "source": [
    "X = df.drop(columns=[\"participant_id\",\"NEO_N\",\"NEO_E\",\"NEO_O\",\"NEO_A\",\"NEO_O\",\"NEO_C\",\"target\",\"gaussian_target\",\"sex\",\"handedness\",\"education_category\"])"
   ]
  },
  {
   "cell_type": "code",
   "execution_count": null,
   "id": "2696d986",
   "metadata": {},
   "outputs": [],
   "source": [
    "X"
   ]
  },
  {
   "cell_type": "code",
   "execution_count": null,
   "id": "019d5fc2",
   "metadata": {},
   "outputs": [],
   "source": [
    "# Discretizing target: 0 = lower, 1 = higher\n",
    "y_disc = df.iloc[:,6:11]\n",
    "y = []\n",
    "for i in range(5):\n",
    "    y.append(pd.cut(x= y_disc.iloc[:,i], \n",
    "                    bins= [y_disc.iloc[:,i].min()-1, y_disc.iloc[:,i].mean(), y_disc.iloc[:,i].max()+1], \n",
    "                    labels= [0, 1]))\n",
    "y = pd.DataFrame(y[0:5]).T\n",
    "y.head()"
   ]
  },
  {
   "cell_type": "markdown",
   "id": "52a0f4bd",
   "metadata": {
    "heading_collapsed": true
   },
   "source": [
    "## y = NEO_N"
   ]
  },
  {
   "cell_type": "code",
   "execution_count": null,
   "id": "77a247d5",
   "metadata": {
    "hidden": true
   },
   "outputs": [],
   "source": [
    "X"
   ]
  },
  {
   "cell_type": "code",
   "execution_count": null,
   "id": "03106b29",
   "metadata": {
    "hidden": true
   },
   "outputs": [],
   "source": [
    "y_n = y[\"NEO_N\"]\n",
    "y_n"
   ]
  },
  {
   "cell_type": "code",
   "execution_count": null,
   "id": "ddb1248e",
   "metadata": {
    "hidden": true
   },
   "outputs": [],
   "source": [
    "forest = RandomForestClassifier(n_estimators=100,n_jobs=-1)\n",
    "cv_results = cross_validate(forest, X, y_n, scoring = \"accuracy\", cv=3)\n",
    "print(cv_results['test_score'])"
   ]
  },
  {
   "cell_type": "markdown",
   "id": "71b1dd3c",
   "metadata": {
    "heading_collapsed": true
   },
   "source": [
    "## y = NEO_E"
   ]
  },
  {
   "cell_type": "code",
   "execution_count": null,
   "id": "50b7cfd2",
   "metadata": {
    "hidden": true
   },
   "outputs": [],
   "source": [
    "X"
   ]
  },
  {
   "cell_type": "code",
   "execution_count": null,
   "id": "768ed79b",
   "metadata": {
    "hidden": true
   },
   "outputs": [],
   "source": [
    "y_e = y[\"NEO_E\"]\n",
    "y_e"
   ]
  },
  {
   "cell_type": "code",
   "execution_count": null,
   "id": "5991ea43",
   "metadata": {
    "hidden": true
   },
   "outputs": [],
   "source": [
    "forest = RandomForestClassifier(n_estimators=100,n_jobs=-1)\n",
    "cv_results = cross_validate(forest, X, y_e, scoring = \"accuracy\", cv=3)\n",
    "print(cv_results['test_score'])"
   ]
  },
  {
   "cell_type": "markdown",
   "id": "d167e24d",
   "metadata": {
    "heading_collapsed": true
   },
   "source": [
    "## y = NEO_O"
   ]
  },
  {
   "cell_type": "code",
   "execution_count": null,
   "id": "21404d67",
   "metadata": {
    "hidden": true
   },
   "outputs": [],
   "source": [
    "y_o = y[\"NEO_O\"]\n",
    "y_o"
   ]
  },
  {
   "cell_type": "code",
   "execution_count": null,
   "id": "3e46ebf9",
   "metadata": {
    "hidden": true
   },
   "outputs": [],
   "source": [
    "forest = RandomForestClassifier(n_estimators=100,n_jobs=-1)\n",
    "cv_results = cross_validate(forest, X, y_o, scoring = \"accuracy\", cv=3)\n",
    "print(cv_results['test_score'])"
   ]
  },
  {
   "cell_type": "markdown",
   "id": "8921d3c4",
   "metadata": {
    "heading_collapsed": true
   },
   "source": [
    "## y = NEO_A"
   ]
  },
  {
   "cell_type": "code",
   "execution_count": null,
   "id": "93874edf",
   "metadata": {
    "hidden": true
   },
   "outputs": [],
   "source": [
    "y_a = y[\"NEO_A\"]\n",
    "y_a"
   ]
  },
  {
   "cell_type": "code",
   "execution_count": null,
   "id": "29ccca2e",
   "metadata": {
    "hidden": true
   },
   "outputs": [],
   "source": [
    "forest = RandomForestClassifier(n_estimators=100,n_jobs=-1)\n",
    "cv_results = cross_validate(forest, X, y_a, scoring = \"accuracy\", cv=3)\n",
    "print(cv_results['test_score'])"
   ]
  },
  {
   "cell_type": "markdown",
   "id": "af8f923b",
   "metadata": {},
   "source": [
    "## y = NEO_C"
   ]
  },
  {
   "cell_type": "code",
   "execution_count": null,
   "id": "ecf30de6",
   "metadata": {},
   "outputs": [],
   "source": [
    "y_c = y[\"NEO_C\"]\n",
    "y_c"
   ]
  },
  {
   "cell_type": "code",
   "execution_count": null,
   "id": "dfa7cdaf",
   "metadata": {},
   "outputs": [],
   "source": [
    "forest = RandomForestClassifier(n_estimators=100,n_jobs=-1)\n",
    "cv_results = cross_validate(forest, X, y_c, scoring = \"accuracy\", cv=3)\n",
    "print(cv_results['test_score'])"
   ]
  },
  {
   "cell_type": "code",
   "execution_count": null,
   "id": "6807f728",
   "metadata": {},
   "outputs": [],
   "source": []
  }
 ],
 "metadata": {
  "kernelspec": {
   "display_name": "Python 3 (ipykernel)",
   "language": "python",
   "name": "python3"
  },
  "language_info": {
   "codemirror_mode": {
    "name": "ipython",
    "version": 3
   },
   "file_extension": ".py",
   "mimetype": "text/x-python",
   "name": "python",
   "nbconvert_exporter": "python",
   "pygments_lexer": "ipython3",
   "version": "3.8.6"
  },
  "toc": {
   "base_numbering": 1,
   "nav_menu": {},
   "number_sections": true,
   "sideBar": true,
   "skip_h1_title": false,
   "title_cell": "Table of Contents",
   "title_sidebar": "Contents",
   "toc_cell": false,
   "toc_position": {},
   "toc_section_display": true,
   "toc_window_display": false
  }
 },
 "nbformat": 4,
 "nbformat_minor": 5
}

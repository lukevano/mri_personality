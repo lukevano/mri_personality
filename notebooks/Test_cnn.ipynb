{
 "cells": [
  {
   "cell_type": "code",
   "execution_count": 1,
   "id": "5b344a78",
   "metadata": {},
   "outputs": [
    {
     "name": "stderr",
     "output_type": "stream",
     "text": [
      "/Users/paula/.pyenv/versions/3.8.6/envs/mri_personality/lib/python3.8/site-packages/pandas/compat/__init__.py:124: UserWarning: Could not import the lzma module. Your installed Python is incomplete. Attempting to use lzma compression will result in a RuntimeError.\n",
      "  warnings.warn(msg)\n",
      "/Users/paula/.pyenv/versions/3.8.6/envs/mri_personality/lib/python3.8/site-packages/nilearn/datasets/__init__.py:86: FutureWarning: Fetchers from the nilearn.datasets module will be updated in version 0.9 to return python strings instead of bytes and Pandas dataframes instead of Numpy arrays.\n",
      "  warn(\"Fetchers from the nilearn.datasets module will be \"\n"
     ]
    }
   ],
   "source": [
    "import nibabel as nb\n",
    "import nilearn\n",
    "from nilearn import plotting\n",
    "import nibabel.freesurfer as nbf"
   ]
  },
  {
   "cell_type": "code",
   "execution_count": 2,
   "id": "65164e4b",
   "metadata": {},
   "outputs": [
    {
     "name": "stdout",
     "output_type": "stream",
     "text": [
      "lh.aparc.annot lh.curv        lh.sphere      lh.sulc\r\n",
      "lh.avg_curv    lh.pial        lh.sphere.reg  lh.thickness\r\n"
     ]
    }
   ],
   "source": [
    "# Participant surface, curve, thickness, volume data\n",
    "raw_path = '../mri_personality/data/sub_0001/'\n",
    "!ls ../mri_personality/data/sub_0001"
   ]
  },
  {
   "cell_type": "markdown",
   "id": "ac85bbd8",
   "metadata": {},
   "source": [
    "# Load Data"
   ]
  },
  {
   "cell_type": "code",
   "execution_count": 7,
   "id": "1d00d0bf",
   "metadata": {},
   "outputs": [],
   "source": [
    "\n",
    "sphere_test = raw_path+'lh.sphere'\n",
    "fs_sphere_verts, fs_sphere_faces, fs_sphere_meta= nb.freesurfer.read_geometry(sphere_test, read_metadata = True)"
   ]
  },
  {
   "cell_type": "code",
   "execution_count": 11,
   "id": "39b1b6f6",
   "metadata": {},
   "outputs": [],
   "source": [
    "# Spheres registered to a template space\n",
    "\n",
    "'''Registers the orig surface to the spherical atlas through surf/?h.sphere. The surfaces are first coarsely registered by \n",
    "aligning the large scale folding patterns found in ?h.sulc and then fine tuned using the small-scale patterns as in ?h.curv.'''\n",
    "\n",
    "sphere_reg_test = raw_path+'lh.sphere.reg'\n",
    "fs_sphere_reg_verts, fs_sphere_reg_faces, fs_sphere_reg_meta= nb.freesurfer.read_geometry(sphere_reg_test, read_metadata = True)"
   ]
  },
  {
   "cell_type": "code",
   "execution_count": 14,
   "id": "9d4fc7ad",
   "metadata": {},
   "outputs": [
    {
     "data": {
      "text/plain": [
       "(131504,)"
      ]
     },
     "execution_count": 14,
     "metadata": {},
     "output_type": "execute_result"
    }
   ],
   "source": [
    "# How thick the cortex is over different regions- best candidate for target\n",
    "\n",
    "lh_thick_test = raw_path+'lh.thickness'\n",
    "lh_thick = nb.freesurfer.read_morph_data(lh_thick_test)\n",
    "lh_thick.shape"
   ]
  },
  {
   "cell_type": "markdown",
   "id": "93a7c29a",
   "metadata": {},
   "source": [
    "# Plotting first image and try storing it"
   ]
  },
  {
   "cell_type": "code",
   "execution_count": null,
   "id": "7a944fd8",
   "metadata": {
    "scrolled": true
   },
   "outputs": [],
   "source": [
    "import matplotlib.pyplot as plt\n",
    "from nilearn import plotting\n",
    "#fig = plt.figure( ) # added before the plot function.\n",
    "\n",
    "display=plotting.plot_surf((fs_sphere_reg_verts, fs_sphere_reg_faces), lh_thick)\n",
    "\n",
    "#fig = plt.figure( ) # added before the plot function.\n",
    "display.savefig('pretty_brain.png')\n"
   ]
  },
  {
   "cell_type": "code",
   "execution_count": 16,
   "id": "ae57bf80",
   "metadata": {},
   "outputs": [],
   "source": [
    "from PIL import Image"
   ]
  },
  {
   "cell_type": "code",
   "execution_count": 28,
   "id": "dbf96f5e",
   "metadata": {},
   "outputs": [
    {
     "name": "stdout",
     "output_type": "stream",
     "text": [
      "CH_MRI_Personality.ipynb\r\n",
      "FCD - 17th August - Data Analysis.ipynb\r\n",
      "FCD - 19-08-2021 - Random Forest.ipynb\r\n",
      "FCD - Data analysis.ipynb\r\n",
      "FCD - MRI_Personality.ipynb\r\n",
      "FCD 21st and 24th August - Random Forrest .ipynb\r\n",
      "MRI_Personality.ipynb:Zone.Identifier\r\n",
      "Test_cnn.ipynb\r\n",
      "image.jpeg\r\n",
      "image.png\r\n",
      "lv_ch_MRI_Personality.ipynb\r\n",
      "lv_lewagon_mri.ipynb\r\n",
      "lv_nibabel_CNN.ipynb\r\n",
      "master_combined.xlsx\r\n",
      "master_dup_removed v1.xlsx\r\n",
      "master_dup_removed v1.xlsx:Zone.Identifier\r\n",
      "master_dup_removed.xlsx\r\n",
      "pretty_brain.png\r\n"
     ]
    }
   ],
   "source": [
    "ls"
   ]
  },
  {
   "cell_type": "code",
   "execution_count": null,
   "id": "d626e6b8",
   "metadata": {},
   "outputs": [],
   "source": []
  }
 ],
 "metadata": {
  "kernelspec": {
   "display_name": "Python 3 (ipykernel)",
   "language": "python",
   "name": "python3"
  },
  "language_info": {
   "codemirror_mode": {
    "name": "ipython",
    "version": 3
   },
   "file_extension": ".py",
   "mimetype": "text/x-python",
   "name": "python",
   "nbconvert_exporter": "python",
   "pygments_lexer": "ipython3",
   "version": "3.8.6"
  },
  "toc": {
   "base_numbering": 1,
   "nav_menu": {},
   "number_sections": true,
   "sideBar": true,
   "skip_h1_title": false,
   "title_cell": "Table of Contents",
   "title_sidebar": "Contents",
   "toc_cell": false,
   "toc_position": {},
   "toc_section_display": true,
   "toc_window_display": false
  }
 },
 "nbformat": 4,
 "nbformat_minor": 5
}
